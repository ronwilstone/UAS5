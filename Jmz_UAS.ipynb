{
 "cells": [
  {
   "cell_type": "markdown",
   "metadata": {},
   "source": [
    "Title  : \"Final Exam\"\n",
    "<br>\n",
    "Author : James Wiliam Andreas Seli Kiti ( 20174920011 / Statistika )\n"
   ]
  },
  {
   "cell_type": "markdown",
   "metadata": {},
   "source": [
    "# Case 1\n",
    "\n",
    "Imagine that you work for a company that builds Cars. A Car is a fairly complex product, and there are several factories that assemble them which the company pays a certain amount per unit. The cost of this Car model on the market is fixed at $\\$ 1500$, different factories assemble the Cars at different speeds and costs. Factory $f_1$ produces $60$ per day at $\\$ 1350$ per unit, factory $f_2$ $50$ per day at $\\$ 1260$ per unit and $f_3$ $35$ per day at $\\$ 1200$ per unit. We have $1$ month to assemble $2600$ units under the constraint that no factory is to produce more than double the units than any other factory. The question is, what is the optimal production allocation between the factories such that we maximize the profit obtained from selling the Cars under those constraints?\n",
    "\n",
    "# Solution:"
   ]
  },
  {
   "cell_type": "code",
   "execution_count": 2,
   "metadata": {},
   "outputs": [],
   "source": [
    "from pulp import *\n",
    "problem = LpProblem(\"problemName\", LpMaximize)"
   ]
  },
  {
   "cell_type": "code",
   "execution_count": 3,
   "metadata": {},
   "outputs": [],
   "source": [
    "# factory cost per day\n",
    "cf1 = 1350\n",
    "cf2 = 1260\n",
    "cf3 = 1200           # factory throughput per day\n",
    "f1 = 60\n",
    "f2 = 50\n",
    "f3 = 35           # production goal\n",
    "goal = 2600        # time limit\n",
    "max_num_days = 30\n",
    "num_factories = 3"
   ]
  },
  {
   "cell_type": "code",
   "execution_count": 4,
   "metadata": {},
   "outputs": [
    {
     "data": {
      "text/plain": [
       "variableName"
      ]
     },
     "execution_count": 4,
     "metadata": {},
     "output_type": "execute_result"
    }
   ],
   "source": [
    "variable = LpVariable(\"variableName\")\n",
    "variable"
   ]
  },
  {
   "cell_type": "code",
   "execution_count": 5,
   "metadata": {},
   "outputs": [
    {
     "data": {
      "text/plain": [
       "{0: factoryDays_0, 1: factoryDays_1, 2: factoryDays_2}"
      ]
     },
     "execution_count": 5,
     "metadata": {},
     "output_type": "execute_result"
    }
   ],
   "source": [
    "# factories\n",
    "num_factories = 3\n",
    "factory_days = LpVariable.dicts(\"factoryDays\", list(range(num_factories)), 0, 30, cat=\"Continuous\")\n",
    "factory_days"
   ]
  },
  {
   "cell_type": "code",
   "execution_count": 6,
   "metadata": {},
   "outputs": [],
   "source": [
    "c1 = factory_days[0]*f1 + factory_days[1]*f2 + factory_days[2] * f3 >= goal \n",
    "\n",
    "# production constraints\n",
    "c2 = factory_days[0]*f1 <= 2*factory_days[1]*f2\n",
    "c3 = factory_days[0]*f1 <= 2*factory_days[2]*f3\n",
    "c4 = factory_days[1]*f2 <= 2*factory_days[2]*f3\n",
    "c5 = factory_days[1]*f2 <= 2*factory_days[0]*f1\n",
    "c6 = factory_days[2]*f3 <= 2*factory_days[1]*f2\n",
    "c7 = factory_days[2]*f3 <= 2*factory_days[0]*f1  \n",
    "\n",
    "# adding the constraints to the problem\n",
    "problem += c1\n",
    "problem += c2\n",
    "problem += c3\n",
    "problem += c4\n",
    "problem += c5\n",
    "problem += c6\n",
    "problem += c7"
   ]
  },
  {
   "cell_type": "code",
   "execution_count": 7,
   "metadata": {},
   "outputs": [],
   "source": [
    "# objective function\n",
    "problem += -factory_days[0]*cf1*f1 - factory_days[1]*cf2*f2 - factory_days[2]*cf3*f3"
   ]
  },
  {
   "cell_type": "code",
   "execution_count": 8,
   "metadata": {},
   "outputs": [
    {
     "name": "stdout",
     "output_type": "stream",
     "text": [
      "problemName:\n",
      "MAXIMIZE\n",
      "-81000*factoryDays_0 + -63000*factoryDays_1 + -42000*factoryDays_2 + 0\n",
      "SUBJECT TO\n",
      "_C1: 60 factoryDays_0 + 50 factoryDays_1 + 35 factoryDays_2 >= 2600\n",
      "\n",
      "_C2: 60 factoryDays_0 - 100 factoryDays_1 <= 0\n",
      "\n",
      "_C3: 60 factoryDays_0 - 70 factoryDays_2 <= 0\n",
      "\n",
      "_C4: 50 factoryDays_1 - 70 factoryDays_2 <= 0\n",
      "\n",
      "_C5: - 120 factoryDays_0 + 50 factoryDays_1 <= 0\n",
      "\n",
      "_C6: - 100 factoryDays_1 + 35 factoryDays_2 <= 0\n",
      "\n",
      "_C7: - 120 factoryDays_0 + 35 factoryDays_2 <= 0\n",
      "\n",
      "VARIABLES\n",
      "factoryDays_0 <= 30 Continuous\n",
      "factoryDays_1 <= 30 Continuous\n",
      "factoryDays_2 <= 30 Continuous\n",
      "\n"
     ]
    }
   ],
   "source": [
    "print(problem)"
   ]
  },
  {
   "cell_type": "code",
   "execution_count": 9,
   "metadata": {},
   "outputs": [
    {
     "data": {
      "text/plain": [
       "1"
      ]
     },
     "execution_count": 9,
     "metadata": {},
     "output_type": "execute_result"
    }
   ],
   "source": [
    "# solving\n",
    "problem.solve()"
   ]
  },
  {
   "cell_type": "code",
   "execution_count": 10,
   "metadata": {},
   "outputs": [
    {
     "name": "stdout",
     "output_type": "stream",
     "text": [
      "Factory 1: 8.75\n",
      "Factory 2: 20.5\n",
      "Factory 3: 30.0\n"
     ]
    }
   ],
   "source": [
    "print('Factory 1:',(f\"{factory_days[0].varValue}\"))\n",
    "print('Factory 2:',(f\"{factory_days[1].varValue}\"))\n",
    "print('Factory 3:',(f\"{factory_days[2].varValue}\"))"
   ]
  },
  {
   "cell_type": "markdown",
   "metadata": {},
   "source": [
    "# Case 2\n",
    "\n",
    "In this Module you will continue to improve your knowledges about Linear Programming Model. Let say you would like to make some sausages and you have the following ingredients available:\n",
    "\n",
    "|Ingredient|Cost (€/kg)|Availability (kg)|\n",
    "|:--------:|:---------:|:---------------:|\n",
    "| Chicken  |   4.32    |       30        |    \n",
    "|  Wheat   |   2.46    |       20        |\n",
    "|  Starch  |   1.86    |       17        |\n",
    "|    etc   |   0.3     |       2         |\n",
    "\n",
    "\n",
    "Assume that you’ll make 2 types of sausage:\n",
    "\n",
    "* Economy (>35% Chicken)\n",
    "* Premium (>65% Chicken)\n",
    "* One sausage is 50 grams (0.05 kg)\n",
    "\n",
    "According to government regulations of Indonesia: \n",
    "\n",
    "* The most starch you can use in your sausages is 20%. \n",
    "* You have a contract with a butcher, and have already purchased 23 kg Chicken, that must go in your sausages.\n",
    "* You have a demand for 420 economy sausages and 615 premium sausages.\n",
    "\n",
    "So, please figure out how to optimize the cost effectively to blend your sausages.\n",
    "\n",
    "# Solution:"
   ]
  },
  {
   "cell_type": "code",
   "execution_count": 11,
   "metadata": {},
   "outputs": [],
   "source": [
    "import pulp\n",
    "\n",
    "model = pulp.LpProblem(\"Cost minimising blending problem\", pulp.LpMinimize)"
   ]
  },
  {
   "cell_type": "code",
   "execution_count": 12,
   "metadata": {},
   "outputs": [],
   "source": [
    "# Membuat list variabel yang digunakan\n",
    "\n",
    "sausage_types = ['economy', 'premium']\n",
    "ingredients = ['chicken', 'wheat', 'starch', 'etc']"
   ]
  },
  {
   "cell_type": "code",
   "execution_count": 13,
   "metadata": {},
   "outputs": [],
   "source": [
    "ing_weight = pulp.LpVariable.dicts(\"weight kg\",\n",
    "                                     ((i, j) for i in sausage_types for j in ingredients),\n",
    "                                     lowBound=0,\n",
    "                                     cat='Continuous')"
   ]
  },
  {
   "cell_type": "code",
   "execution_count": 14,
   "metadata": {},
   "outputs": [],
   "source": [
    "# Fungsi Objektifnya\n",
    "\n",
    "model += (\n",
    "    pulp.lpSum([\n",
    "        4.32 * ing_weight[(i, 'chicken')]\n",
    "        + 2.46 * ing_weight[(i, 'wheat')]\n",
    "        + 1.86 * ing_weight[(i, 'starch')]\n",
    "         + 0.3 * ing_weight[(i, 'etc')]\n",
    "        for i in sausage_types])\n",
    ")"
   ]
  },
  {
   "cell_type": "code",
   "execution_count": 15,
   "metadata": {},
   "outputs": [],
   "source": [
    "# Batasan\n",
    "# 420 economy and 615 premium sausages at 0.05 kg\n",
    "model += pulp.lpSum([ing_weight['economy', j] for j in ingredients]) == 420 * 0.05\n",
    "model += pulp.lpSum([ing_weight['premium', j] for j in ingredients]) == 615 * 0.05\n",
    "\n",
    "# Economy has >= 35% chicken, premium >= 65% chicken\n",
    "model += ing_weight['economy', 'chicken'] >= (\n",
    "    0.35 * pulp.lpSum([ing_weight['economy', j] for j in ingredients]))\n",
    "\n",
    "model += ing_weight['premium', 'chicken'] >= (\n",
    "    0.65 * pulp.lpSum([ing_weight['premium', j] for j in ingredients]))\n",
    "\n",
    "# Sausages must be <= 20% starch\n",
    "model += ing_weight['economy', 'starch'] <= (\n",
    "    0.20 * pulp.lpSum([ing_weight['economy', j] for j in ingredients]))\n",
    "\n",
    "model += ing_weight['premium', 'starch'] <= (\n",
    "    0.20 * pulp.lpSum([ing_weight['premium', j] for j in ingredients]))\n",
    "\n",
    "# You have at most 30 kg of chicken, 20 kg of wheat, 17 kg of starch and 2 kg of etc available\n",
    "model += pulp.lpSum([ing_weight[i, 'chicken'] for i in sausage_types]) <= 30\n",
    "model += pulp.lpSum([ing_weight[i, 'wheat'] for i in sausage_types]) <= 20\n",
    "model += pulp.lpSum([ing_weight[i, 'starch'] for i in sausage_types]) <= 17\n",
    "model += pulp.lpSum([ing_weight[i, 'etc'] for i in sausage_types]) <= 2\n",
    "\n",
    "# You have at least 23 kg of chicken to use up\n",
    "model += pulp.lpSum([ing_weight[i, 'chicken'] for i in sausage_types]) >= 23"
   ]
  },
  {
   "cell_type": "code",
   "execution_count": 16,
   "metadata": {},
   "outputs": [
    {
     "data": {
      "text/plain": [
       "'Optimal'"
      ]
     },
     "execution_count": 16,
     "metadata": {},
     "output_type": "execute_result"
    }
   ],
   "source": [
    "# Penyelesaian masalahnya\n",
    "\n",
    "model.solve()\n",
    "pulp.LpStatus[model.status]"
   ]
  },
  {
   "cell_type": "code",
   "execution_count": 17,
   "metadata": {},
   "outputs": [
    {
     "name": "stdout",
     "output_type": "stream",
     "text": [
      "The weight of chicken in economy sausages is 7.35 kg\n",
      "The weight of wheat in economy sausages is 9.45 kg\n",
      "The weight of starch in economy sausages is 4.2 kg\n",
      "The weight of etc in economy sausages is 0.0 kg\n",
      "The weight of chicken in premium sausages is 19.9875 kg\n",
      "The weight of wheat in premium sausages is 2.6125 kg\n",
      "The weight of starch in premium sausages is 6.15 kg\n",
      "The weight of etc in premium sausages is 2.0 kg\n"
     ]
    }
   ],
   "source": [
    "# Solusi untuk mencari keuntungan maksimal\n",
    "\n",
    "for var in ing_weight:\n",
    "    var_value = ing_weight[var].varValue\n",
    "    print (\"The weight of {0} in {1} sausages is {2} kg\".format(var[1], var[0], var_value))"
   ]
  },
  {
   "cell_type": "code",
   "execution_count": 18,
   "metadata": {},
   "outputs": [
    {
     "name": "stdout",
     "output_type": "stream",
     "text": [
      "The total cost is €167.62 for 420 economy sausages and 615 premium sausages\n"
     ]
    }
   ],
   "source": [
    "total_cost = pulp.value(model.objective)       # Keuntungan optimal yang kita dapat\n",
    "\n",
    "print(\"The total cost is €{} for 420 economy sausages and 615 premium sausages\".format(round(total_cost, 2)))"
   ]
  },
  {
   "cell_type": "markdown",
   "metadata": {},
   "source": [
    "# Case 3 \n",
    "\n",
    "Please apply Lenear Regression and Logistic Regression as optimization to the [Iris dataset](iris.csv). \n",
    "\n",
    "# Solution:"
   ]
  },
  {
   "cell_type": "code",
   "execution_count": 19,
   "metadata": {},
   "outputs": [],
   "source": [
    "# Mengimport packages\n",
    "\n",
    "import numpy as np                                  \n",
    "import matplotlib.pyplot as plt                 \n",
    "import pandas as pd  \n",
    "import seaborn as sns"
   ]
  },
  {
   "cell_type": "code",
   "execution_count": 20,
   "metadata": {},
   "outputs": [
    {
     "data": {
      "text/html": [
       "<div>\n",
       "<style scoped>\n",
       "    .dataframe tbody tr th:only-of-type {\n",
       "        vertical-align: middle;\n",
       "    }\n",
       "\n",
       "    .dataframe tbody tr th {\n",
       "        vertical-align: top;\n",
       "    }\n",
       "\n",
       "    .dataframe thead th {\n",
       "        text-align: right;\n",
       "    }\n",
       "</style>\n",
       "<table border=\"1\" class=\"dataframe\">\n",
       "  <thead>\n",
       "    <tr style=\"text-align: right;\">\n",
       "      <th></th>\n",
       "      <th>Id</th>\n",
       "      <th>SepalLengthCm</th>\n",
       "      <th>SepalWidthCm</th>\n",
       "      <th>PetalLengthCm</th>\n",
       "      <th>PetalWidthCm</th>\n",
       "      <th>Species</th>\n",
       "    </tr>\n",
       "  </thead>\n",
       "  <tbody>\n",
       "    <tr>\n",
       "      <th>0</th>\n",
       "      <td>1</td>\n",
       "      <td>5.1</td>\n",
       "      <td>3.5</td>\n",
       "      <td>1.4</td>\n",
       "      <td>0.2</td>\n",
       "      <td>Iris-setosa</td>\n",
       "    </tr>\n",
       "    <tr>\n",
       "      <th>1</th>\n",
       "      <td>2</td>\n",
       "      <td>4.9</td>\n",
       "      <td>3.0</td>\n",
       "      <td>1.4</td>\n",
       "      <td>0.2</td>\n",
       "      <td>Iris-setosa</td>\n",
       "    </tr>\n",
       "    <tr>\n",
       "      <th>2</th>\n",
       "      <td>3</td>\n",
       "      <td>4.7</td>\n",
       "      <td>3.2</td>\n",
       "      <td>1.3</td>\n",
       "      <td>0.2</td>\n",
       "      <td>Iris-setosa</td>\n",
       "    </tr>\n",
       "    <tr>\n",
       "      <th>3</th>\n",
       "      <td>4</td>\n",
       "      <td>4.6</td>\n",
       "      <td>3.1</td>\n",
       "      <td>1.5</td>\n",
       "      <td>0.2</td>\n",
       "      <td>Iris-setosa</td>\n",
       "    </tr>\n",
       "    <tr>\n",
       "      <th>4</th>\n",
       "      <td>5</td>\n",
       "      <td>5.0</td>\n",
       "      <td>3.6</td>\n",
       "      <td>1.4</td>\n",
       "      <td>0.2</td>\n",
       "      <td>Iris-setosa</td>\n",
       "    </tr>\n",
       "  </tbody>\n",
       "</table>\n",
       "</div>"
      ],
      "text/plain": [
       "   Id  SepalLengthCm  SepalWidthCm  PetalLengthCm  PetalWidthCm      Species\n",
       "0   1            5.1           3.5            1.4           0.2  Iris-setosa\n",
       "1   2            4.9           3.0            1.4           0.2  Iris-setosa\n",
       "2   3            4.7           3.2            1.3           0.2  Iris-setosa\n",
       "3   4            4.6           3.1            1.5           0.2  Iris-setosa\n",
       "4   5            5.0           3.6            1.4           0.2  Iris-setosa"
      ]
     },
     "execution_count": 20,
     "metadata": {},
     "output_type": "execute_result"
    }
   ],
   "source": [
    "iris = pd.read_csv('Iris.csv')                        # Mengimport dataset Iris\n",
    "iris.head()                                           # Menampilkan top 5 data Iris"
   ]
  },
  {
   "cell_type": "code",
   "execution_count": 21,
   "metadata": {},
   "outputs": [
    {
     "data": {
      "text/html": [
       "<div>\n",
       "<style scoped>\n",
       "    .dataframe tbody tr th:only-of-type {\n",
       "        vertical-align: middle;\n",
       "    }\n",
       "\n",
       "    .dataframe tbody tr th {\n",
       "        vertical-align: top;\n",
       "    }\n",
       "\n",
       "    .dataframe thead th {\n",
       "        text-align: right;\n",
       "    }\n",
       "</style>\n",
       "<table border=\"1\" class=\"dataframe\">\n",
       "  <thead>\n",
       "    <tr style=\"text-align: right;\">\n",
       "      <th></th>\n",
       "      <th>Id</th>\n",
       "      <th>SepalLengthCm</th>\n",
       "      <th>SepalWidthCm</th>\n",
       "      <th>PetalLengthCm</th>\n",
       "      <th>PetalWidthCm</th>\n",
       "    </tr>\n",
       "  </thead>\n",
       "  <tbody>\n",
       "    <tr>\n",
       "      <th>Id</th>\n",
       "      <td>1.000000</td>\n",
       "      <td>0.716676</td>\n",
       "      <td>-0.397729</td>\n",
       "      <td>0.882747</td>\n",
       "      <td>0.899759</td>\n",
       "    </tr>\n",
       "    <tr>\n",
       "      <th>SepalLengthCm</th>\n",
       "      <td>0.716676</td>\n",
       "      <td>1.000000</td>\n",
       "      <td>-0.109369</td>\n",
       "      <td>0.871754</td>\n",
       "      <td>0.817954</td>\n",
       "    </tr>\n",
       "    <tr>\n",
       "      <th>SepalWidthCm</th>\n",
       "      <td>-0.397729</td>\n",
       "      <td>-0.109369</td>\n",
       "      <td>1.000000</td>\n",
       "      <td>-0.420516</td>\n",
       "      <td>-0.356544</td>\n",
       "    </tr>\n",
       "    <tr>\n",
       "      <th>PetalLengthCm</th>\n",
       "      <td>0.882747</td>\n",
       "      <td>0.871754</td>\n",
       "      <td>-0.420516</td>\n",
       "      <td>1.000000</td>\n",
       "      <td>0.962757</td>\n",
       "    </tr>\n",
       "    <tr>\n",
       "      <th>PetalWidthCm</th>\n",
       "      <td>0.899759</td>\n",
       "      <td>0.817954</td>\n",
       "      <td>-0.356544</td>\n",
       "      <td>0.962757</td>\n",
       "      <td>1.000000</td>\n",
       "    </tr>\n",
       "  </tbody>\n",
       "</table>\n",
       "</div>"
      ],
      "text/plain": [
       "                     Id  SepalLengthCm  SepalWidthCm  PetalLengthCm  \\\n",
       "Id             1.000000       0.716676     -0.397729       0.882747   \n",
       "SepalLengthCm  0.716676       1.000000     -0.109369       0.871754   \n",
       "SepalWidthCm  -0.397729      -0.109369      1.000000      -0.420516   \n",
       "PetalLengthCm  0.882747       0.871754     -0.420516       1.000000   \n",
       "PetalWidthCm   0.899759       0.817954     -0.356544       0.962757   \n",
       "\n",
       "               PetalWidthCm  \n",
       "Id                 0.899759  \n",
       "SepalLengthCm      0.817954  \n",
       "SepalWidthCm      -0.356544  \n",
       "PetalLengthCm      0.962757  \n",
       "PetalWidthCm       1.000000  "
      ]
     },
     "execution_count": 21,
     "metadata": {},
     "output_type": "execute_result"
    }
   ],
   "source": [
    "iris.corr(method='pearson')                          # Melihat korelasi antara variabel dalam dataset Iris"
   ]
  },
  {
   "cell_type": "code",
   "execution_count": 22,
   "metadata": {},
   "outputs": [],
   "source": [
    "z = iris['Species']                                  # Memisahkan kolom Species\n",
    "c = iris['PetalWidthCm']                             # Memisahkan kolom PetalWidthCm"
   ]
  },
  {
   "cell_type": "code",
   "execution_count": 23,
   "metadata": {},
   "outputs": [],
   "source": [
    "x = iris.iloc[:,1:3]                                # Menentukan variabel selain PetalWidthCm sebagai variabel X (independen)\n",
    "x = x.join(c)\n",
    "x = x.join(z)\n",
    "y = iris.iloc[:, 3]                                 # Menentukan PetalWidthCm sebagai variabel Y (dependen)"
   ]
  },
  {
   "cell_type": "code",
   "execution_count": 24,
   "metadata": {},
   "outputs": [],
   "source": [
    "# Membuat dummy untuk variabel species\n",
    "\n",
    "species = pd.get_dummies(x['Species'],drop_first=True)"
   ]
  },
  {
   "cell_type": "code",
   "execution_count": 25,
   "metadata": {},
   "outputs": [],
   "source": [
    "# Menghilangkan kolom species\n",
    "x = x.drop('Species',axis=1)\n",
    "\n",
    "# Menggabungkan variabel dummy dengan x\n",
    "x = pd.concat([x,species],axis=1)"
   ]
  },
  {
   "cell_type": "code",
   "execution_count": 26,
   "metadata": {},
   "outputs": [],
   "source": [
    "# Membagi dataset menjadi data training dan data test\n",
    "\n",
    "from sklearn.model_selection import train_test_split\n",
    "x_train, x_test, y_train, y_test = train_test_split(x, y, test_size = 0.2, random_state = 0)"
   ]
  },
  {
   "cell_type": "code",
   "execution_count": 27,
   "metadata": {},
   "outputs": [],
   "source": [
    "# Memasukkan multipel linier regresi ke data training\n",
    "\n",
    "from sklearn.linear_model import LinearRegression\n",
    "regressor = LinearRegression()\n",
    "regressor.fit(x_train, y_train);"
   ]
  },
  {
   "cell_type": "code",
   "execution_count": 28,
   "metadata": {},
   "outputs": [
    {
     "data": {
      "text/plain": [
       "array([5.3259651 , 4.18268757, 1.57850549, 5.83875851, 1.42437572,\n",
       "       5.60271566, 1.47030102, 4.76614761, 4.82007422, 4.32444598,\n",
       "       4.89783363, 4.56246128, 4.25934681, 4.70066093, 4.37037128,\n",
       "       1.35529402, 4.37396629, 3.92866965, 1.44316208, 1.7047213 ,\n",
       "       4.94256012, 4.10877581, 1.30136742, 1.15122018, 5.1813867 ,\n",
       "       1.14001136, 1.53938271, 4.36677626, 3.54847217, 1.55457406])"
      ]
     },
     "execution_count": 28,
     "metadata": {},
     "output_type": "execute_result"
    }
   ],
   "source": [
    "# Memprediksi data test menggunakan data training\n",
    "\n",
    "y_pred = regressor.predict(x_test)\n",
    "y_pred"
   ]
  },
  {
   "cell_type": "code",
   "execution_count": 29,
   "metadata": {},
   "outputs": [],
   "source": [
    "from sklearn.metrics import r2_score             # Melihat berapa persen keakuratan prediksi kita\n",
    "score=r2_score(y_test,y_pred)"
   ]
  },
  {
   "cell_type": "code",
   "execution_count": 30,
   "metadata": {},
   "outputs": [
    {
     "name": "stdout",
     "output_type": "stream",
     "text": [
      "Keakuratan prediksi yang kita buat sebesar: 0.9661202334752407\n"
     ]
    }
   ],
   "source": [
    "print('Keakuratan prediksi yang kita buat sebesar:',score)"
   ]
  },
  {
   "cell_type": "code",
   "execution_count": 31,
   "metadata": {},
   "outputs": [],
   "source": [
    "# Mengubah data string menjadi data numerik\n",
    "\n",
    "iris = iris.replace({'Iris-setosa' : 1})\n",
    "iris = iris.replace({'Iris-versicolor' : 2})\n",
    "iris = iris.replace({'Iris-virginica' : 3})"
   ]
  },
  {
   "cell_type": "code",
   "execution_count": 32,
   "metadata": {},
   "outputs": [
    {
     "name": "stdout",
     "output_type": "stream",
     "text": [
      "   Id  SepalLengthCm  SepalWidthCm  PetalLengthCm  PetalWidthCm  Species  d_1  \\\n",
      "0   1            5.1           3.5            1.4           0.2        1    1   \n",
      "1   2            4.9           3.0            1.4           0.2        1    1   \n",
      "2   3            4.7           3.2            1.3           0.2        1    1   \n",
      "3   4            4.6           3.1            1.5           0.2        1    1   \n",
      "4   5            5.0           3.6            1.4           0.2        1    1   \n",
      "\n",
      "   d_2  d_3  \n",
      "0    0    0  \n",
      "1    0    0  \n",
      "2    0    0  \n",
      "3    0    0  \n",
      "4    0    0  \n"
     ]
    }
   ],
   "source": [
    "dummy_ranks = pd.get_dummies(iris['Species'], prefix='d')          # Membuat dummy untuk variabel species\n",
    "iris = iris.join(dummy_ranks)                                      # menggabungkan data Iris dengan dummy\n",
    "print(iris.head())                                                 # Melihat hasilnya"
   ]
  },
  {
   "cell_type": "code",
   "execution_count": 33,
   "metadata": {},
   "outputs": [
    {
     "name": "stdout",
     "output_type": "stream",
     "text": [
      "                            OLS Regression Results                            \n",
      "==============================================================================\n",
      "Dep. Variable:          PetalLengthCm   R-squared:                       0.979\n",
      "Model:                            OLS   Adj. R-squared:                  0.978\n",
      "Method:                 Least Squares   F-statistic:                     1313.\n",
      "Date:                Tue, 07 Jan 2020   Prob (F-statistic):          3.42e-118\n",
      "Time:                        11:04:36   Log-Likelihood:                -9.3888\n",
      "No. Observations:                 150   AIC:                             30.78\n",
      "Df Residuals:                     144   BIC:                             48.84\n",
      "Df Model:                           5                                         \n",
      "Covariance Type:            nonrobust                                         \n",
      "=================================================================================\n",
      "                    coef    std err          t      P>|t|      [0.025      0.975]\n",
      "---------------------------------------------------------------------------------\n",
      "Intercept         0.0322      0.194      0.166      0.868      -0.351       0.416\n",
      "SepalLengthCm     0.6101      0.050     12.136      0.000       0.511       0.709\n",
      "SepalWidthCm     -0.1873      0.081     -2.322      0.022      -0.347      -0.028\n",
      "PetalWidthCm      0.6029      0.122      4.947      0.000       0.362       0.844\n",
      "d_1              -1.1294      0.142     -7.970      0.000      -1.409      -0.849\n",
      "d_2               0.3256      0.077      4.218      0.000       0.173       0.478\n",
      "d_3               0.8360      0.141      5.937      0.000       0.558       1.114\n",
      "==============================================================================\n",
      "Omnibus:                        0.851   Durbin-Watson:                   1.687\n",
      "Prob(Omnibus):                  0.653   Jarque-Bera (JB):                0.476\n",
      "Skew:                          -0.046   Prob(JB):                        0.788\n",
      "Kurtosis:                       3.260   Cond. No.                     2.88e+16\n",
      "==============================================================================\n",
      "\n",
      "Warnings:\n",
      "[1] Standard Errors assume that the covariance matrix of the errors is correctly specified.\n",
      "[2] The smallest eigenvalue is 8.46e-30. This might indicate that there are\n",
      "strong multicollinearity problems or that the design matrix is singular.\n"
     ]
    }
   ],
   "source": [
    "import statsmodels.api as sm\n",
    "from patsy import dmatrices\n",
    "\n",
    "y, X = dmatrices('PetalLengthCm ~ SepalLengthCm + SepalWidthCm + PetalWidthCm + d_1 + d_2 + d_3', data = iris, return_type='dataframe')\n",
    "res = sm.OLS(y, X).fit()\n",
    "\n",
    "print(res.summary())                                                   # Melihat estimasi koefisiennya"
   ]
  },
  {
   "cell_type": "markdown",
   "metadata": {},
   "source": [
    "# Case 4\n",
    "from week 9 - 15"
   ]
  },
  {
   "cell_type": "markdown",
   "metadata": {},
   "source": [
    "## Portofolio Optimization"
   ]
  },
  {
   "cell_type": "code",
   "execution_count": 34,
   "metadata": {},
   "outputs": [],
   "source": [
    "import numpy as np\n",
    "import pandas as pd\n",
    "import matplotlib.pyplot as plt\n",
    "import cvxpy as cp"
   ]
  },
  {
   "cell_type": "code",
   "execution_count": 35,
   "metadata": {},
   "outputs": [],
   "source": [
    "mp = pd.read_csv(\"monthly_prices.csv\",index_col=0)\n",
    "mr = pd.DataFrame()"
   ]
  },
  {
   "cell_type": "code",
   "execution_count": 36,
   "metadata": {},
   "outputs": [
    {
     "data": {
      "text/html": [
       "<div>\n",
       "<style scoped>\n",
       "    .dataframe tbody tr th:only-of-type {\n",
       "        vertical-align: middle;\n",
       "    }\n",
       "\n",
       "    .dataframe tbody tr th {\n",
       "        vertical-align: top;\n",
       "    }\n",
       "\n",
       "    .dataframe thead th {\n",
       "        text-align: right;\n",
       "    }\n",
       "</style>\n",
       "<table border=\"1\" class=\"dataframe\">\n",
       "  <thead>\n",
       "    <tr style=\"text-align: right;\">\n",
       "      <th></th>\n",
       "      <th>MSFT</th>\n",
       "      <th>V</th>\n",
       "      <th>WMT</th>\n",
       "    </tr>\n",
       "  </thead>\n",
       "  <tbody>\n",
       "    <tr>\n",
       "      <th>1</th>\n",
       "      <td>44.259998</td>\n",
       "      <td>69.660004</td>\n",
       "      <td>64.839996</td>\n",
       "    </tr>\n",
       "    <tr>\n",
       "      <th>2</th>\n",
       "      <td>52.639999</td>\n",
       "      <td>77.580002</td>\n",
       "      <td>57.240002</td>\n",
       "    </tr>\n",
       "    <tr>\n",
       "      <th>3</th>\n",
       "      <td>54.349998</td>\n",
       "      <td>79.010002</td>\n",
       "      <td>58.840000</td>\n",
       "    </tr>\n",
       "    <tr>\n",
       "      <th>4</th>\n",
       "      <td>55.480000</td>\n",
       "      <td>77.550003</td>\n",
       "      <td>61.299999</td>\n",
       "    </tr>\n",
       "    <tr>\n",
       "      <th>5</th>\n",
       "      <td>55.090000</td>\n",
       "      <td>74.489998</td>\n",
       "      <td>66.360001</td>\n",
       "    </tr>\n",
       "  </tbody>\n",
       "</table>\n",
       "</div>"
      ],
      "text/plain": [
       "        MSFT          V        WMT\n",
       "1  44.259998  69.660004  64.839996\n",
       "2  52.639999  77.580002  57.240002\n",
       "3  54.349998  79.010002  58.840000\n",
       "4  55.480000  77.550003  61.299999\n",
       "5  55.090000  74.489998  66.360001"
      ]
     },
     "execution_count": 36,
     "metadata": {},
     "output_type": "execute_result"
    }
   ],
   "source": [
    "mp.head()"
   ]
  },
  {
   "cell_type": "code",
   "execution_count": 37,
   "metadata": {},
   "outputs": [
    {
     "data": {
      "image/png": "[encoded data removed]",
      "text/plain": [
       "<Figure size 720x360 with 1 Axes>"
      ]
     },
     "metadata": {
      "needs_background": "light"
     },
     "output_type": "display_data"
    }
   ],
   "source": [
    "# Plot the data\n",
    "\n",
    "plt.figure(figsize=(10,5))\n",
    "plt.plot([i for i in range(1,25)],mp['MSFT'],lw=3,marker='o',markersize=12)\n",
    "plt.plot([i for i in range(1,25)],mp['V'],lw=3,c='red',marker='^',markersize=12)\n",
    "plt.plot([i for i in range(1,25)],mp['WMT'],lw=3,marker='*',markersize=12)\n",
    "plt.legend(mp.columns,fontsize=16)\n",
    "plt.xlabel(\"Months\",fontsize=18)\n",
    "plt.ylabel(\"Stock price (Monthly average)\",fontsize=18)\n",
    "plt.xticks(fontsize=16)\n",
    "plt.yticks(fontsize=16)\n",
    "plt.grid(True)\n",
    "plt.show()"
   ]
  },
  {
   "cell_type": "code",
   "execution_count": 38,
   "metadata": {},
   "outputs": [
    {
     "name": "stderr",
     "output_type": "stream",
     "text": [
      "C:\\Users\\MSI GL62-7RDX\\Anaconda3\\lib\\site-packages\\ipykernel_launcher.py:9: FutureWarning: set_value is deprecated and will be removed in a future release. Please use .at[] or .iat[] accessors instead\n",
      "  if __name__ == '__main__':\n"
     ]
    }
   ],
   "source": [
    "# compute monthly returns\n",
    "for s in mp.columns:\n",
    "    date = mp.index[0]\n",
    "    pr0 = mp[s][date] \n",
    "    for t in range(1,len(mp.index)):\n",
    "        date = mp.index[t]\n",
    "        pr1 = mp[s][date]\n",
    "        ret = (pr1-pr0)/pr0\n",
    "        mr.set_value(date,s,ret)\n",
    "        pr0 = pr1"
   ]
  },
  {
   "cell_type": "code",
   "execution_count": 39,
   "metadata": {},
   "outputs": [
    {
     "data": {
      "text/html": [
       "<div>\n",
       "<style scoped>\n",
       "    .dataframe tbody tr th:only-of-type {\n",
       "        vertical-align: middle;\n",
       "    }\n",
       "\n",
       "    .dataframe tbody tr th {\n",
       "        vertical-align: top;\n",
       "    }\n",
       "\n",
       "    .dataframe thead th {\n",
       "        text-align: right;\n",
       "    }\n",
       "</style>\n",
       "<table border=\"1\" class=\"dataframe\">\n",
       "  <thead>\n",
       "    <tr style=\"text-align: right;\">\n",
       "      <th></th>\n",
       "      <th>MSFT</th>\n",
       "      <th>V</th>\n",
       "      <th>WMT</th>\n",
       "    </tr>\n",
       "  </thead>\n",
       "  <tbody>\n",
       "    <tr>\n",
       "      <th>2</th>\n",
       "      <td>0.189336</td>\n",
       "      <td>0.113695</td>\n",
       "      <td>-0.117212</td>\n",
       "    </tr>\n",
       "    <tr>\n",
       "      <th>3</th>\n",
       "      <td>0.032485</td>\n",
       "      <td>0.018433</td>\n",
       "      <td>0.027952</td>\n",
       "    </tr>\n",
       "    <tr>\n",
       "      <th>4</th>\n",
       "      <td>0.020791</td>\n",
       "      <td>-0.018479</td>\n",
       "      <td>0.041808</td>\n",
       "    </tr>\n",
       "    <tr>\n",
       "      <th>5</th>\n",
       "      <td>-0.007030</td>\n",
       "      <td>-0.039458</td>\n",
       "      <td>0.082545</td>\n",
       "    </tr>\n",
       "    <tr>\n",
       "      <th>6</th>\n",
       "      <td>-0.076420</td>\n",
       "      <td>-0.028192</td>\n",
       "      <td>-0.000301</td>\n",
       "    </tr>\n",
       "  </tbody>\n",
       "</table>\n",
       "</div>"
      ],
      "text/plain": [
       "       MSFT         V       WMT\n",
       "2  0.189336  0.113695 -0.117212\n",
       "3  0.032485  0.018433  0.027952\n",
       "4  0.020791 -0.018479  0.041808\n",
       "5 -0.007030 -0.039458  0.082545\n",
       "6 -0.076420 -0.028192 -0.000301"
      ]
     },
     "execution_count": 39,
     "metadata": {},
     "output_type": "execute_result"
    }
   ],
   "source": [
    "mr.head()"
   ]
  },
  {
   "cell_type": "code",
   "execution_count": 40,
   "metadata": {},
   "outputs": [],
   "source": [
    "# get symbol names\n",
    "symbols = mr.columns"
   ]
  },
  {
   "cell_type": "code",
   "execution_count": 41,
   "metadata": {},
   "outputs": [
    {
     "data": {
      "text/plain": [
       "Index(['MSFT', 'V', 'WMT'], dtype='object')"
      ]
     },
     "execution_count": 41,
     "metadata": {},
     "output_type": "execute_result"
    }
   ],
   "source": [
    "symbols"
   ]
  },
  {
   "cell_type": "code",
   "execution_count": 42,
   "metadata": {},
   "outputs": [
    {
     "name": "stderr",
     "output_type": "stream",
     "text": [
      "C:\\Users\\MSI GL62-7RDX\\Anaconda3\\lib\\site-packages\\ipykernel_launcher.py:2: FutureWarning: Method .as_matrix will be removed in a future version. Use .values instead.\n",
      "  \n"
     ]
    }
   ],
   "source": [
    "# Convert monthly return data frame to a numpy matrix\n",
    "return_data = mr.as_matrix().T"
   ]
  },
  {
   "cell_type": "code",
   "execution_count": 43,
   "metadata": {},
   "outputs": [
    {
     "data": {
      "text/plain": [
       "array([[ 0.18933577,  0.03248478,  0.02079121, -0.00702956, -0.07642038,\n",
       "         0.08549526, -0.09704872,  0.06276321, -0.03452834,  0.10768032,\n",
       "         0.01376145,  0.00243646,  0.04027778,  0.00567423,  0.03119816,\n",
       "         0.04039271, -0.01036353,  0.0293842 ,  0.03947765,  0.02015771,\n",
       "        -0.01302973,  0.05469312,  0.02847318],\n",
       "       [ 0.11369506,  0.01843259, -0.01847866, -0.03945848, -0.02819169,\n",
       "         0.05649957,  0.00993717,  0.02200937, -0.06042569,  0.05231232,\n",
       "         0.03651504,  0.02224963, -0.0022974 , -0.06290149,  0.00905325,\n",
       "         0.06011282,  0.06323302,  0.0105754 ,  0.0264431 ,  0.04395968,\n",
       "        -0.01522634,  0.0616336 ,  0.039775  ],\n",
       "       [-0.11721151,  0.02795244,  0.04180828,  0.0825449 , -0.00030146,\n",
       "         0.03240884, -0.02365302,  0.0584716 ,  0.03164733, -0.00068469,\n",
       "        -0.02096751,  0.00951849, -0.02911822,  0.00585551, -0.01859999,\n",
       "        -0.03443294,  0.06278097,  0.0162132 ,  0.04300774,  0.0454908 ,\n",
       "        -0.0371501 ,  0.05695029, -0.02400298]])"
      ]
     },
     "execution_count": 43,
     "metadata": {},
     "output_type": "execute_result"
    }
   ],
   "source": [
    "return_data"
   ]
  },
  {
   "cell_type": "code",
   "execution_count": 44,
   "metadata": {},
   "outputs": [
    {
     "data": {
      "image/png": "[encoded data removed]",
      "text/plain": [
       "<Figure size 720x360 with 1 Axes>"
      ]
     },
     "metadata": {
      "needs_background": "light"
     },
     "output_type": "display_data"
    }
   ],
   "source": [
    "plt.figure(figsize=(10,5))\n",
    "plt.plot([i for i in range(1,24)],100*mr['MSFT'],lw=3,marker='o',markersize=12)\n",
    "plt.plot([i for i in range(1,24)],100*mr['V'],lw=3,c='red',marker='^',markersize=12)\n",
    "plt.plot([i for i in range(1,24)],100*mr['WMT'],lw=3,marker='*',markersize=12)\n",
    "plt.legend(mp.columns,fontsize=16)\n",
    "plt.xlabel(\"Months\",fontsize=18)\n",
    "plt.ylabel(\"Monthly return (%))\",fontsize=18)\n",
    "plt.xticks(fontsize=16)\n",
    "plt.yticks(fontsize=16)\n",
    "plt.grid(True)\n",
    "plt.show()"
   ]
  },
  {
   "cell_type": "code",
   "execution_count": 45,
   "metadata": {},
   "outputs": [],
   "source": [
    "r = np.asarray(np.mean(return_data, axis=1))      # mean return"
   ]
  },
  {
   "cell_type": "code",
   "execution_count": 46,
   "metadata": {},
   "outputs": [
    {
     "data": {
      "text/plain": [
       "array([0.02461117, 0.01823726, 0.00906643])"
      ]
     },
     "execution_count": 46,
     "metadata": {},
     "output_type": "execute_result"
    }
   ],
   "source": [
    "r"
   ]
  },
  {
   "cell_type": "code",
   "execution_count": 47,
   "metadata": {},
   "outputs": [],
   "source": [
    "C = np.asmatrix(np.cov(return_data))            # covariance matrix"
   ]
  },
  {
   "cell_type": "code",
   "execution_count": 48,
   "metadata": {},
   "outputs": [
    {
     "data": {
      "text/plain": [
       "matrix([[ 0.00336865,  0.0016328 , -0.00075249],\n",
       "        [ 0.0016328 ,  0.00183242, -0.00056339],\n",
       "        [-0.00075249, -0.00056339,  0.00197676]])"
      ]
     },
     "execution_count": 48,
     "metadata": {},
     "output_type": "execute_result"
    }
   ],
   "source": [
    "C"
   ]
  },
  {
   "cell_type": "code",
   "execution_count": 49,
   "metadata": {},
   "outputs": [
    {
     "name": "stdout",
     "output_type": "stream",
     "text": [
      "MSFT: Exp ret = 0.024611, Risk = 0.058040\n",
      "V: Exp ret = 0.018237, Risk = 0.042807\n",
      "WMT: Exp ret = 0.009066, Risk = 0.044461\n"
     ]
    }
   ],
   "source": [
    "for j in range(len(symbols)):\n",
    "    print ('%s: Exp ret = %f, Risk = %f' %(symbols[j],r[j], C[j,j]**0.5))              #expected return and risk"
   ]
  },
  {
   "cell_type": "code",
   "execution_count": 50,
   "metadata": {},
   "outputs": [],
   "source": [
    "### set up the optimation model\n",
    "\n",
    "# Number of variables\n",
    "n = len(symbols)\n",
    "\n",
    "# The variables vector\n",
    "x = cp.Variable(n)\n",
    "\n",
    "# The minimum return\n",
    "req_return = 0.02\n",
    "\n",
    "# The return\n",
    "ret = r.T*x\n",
    "\n",
    "# The risk in xT.Q.x format\n",
    "risk = cp.quad_form(x, C)\n",
    "\n",
    "# The core problem definition with the Problem class from CVXPY\n",
    "prob = cp.Problem(cp.Minimize(risk), [sum(x)==1, ret >= req_return, x >= 0])"
   ]
  },
  {
   "cell_type": "code",
   "execution_count": 51,
   "metadata": {},
   "outputs": [
    {
     "name": "stdout",
     "output_type": "stream",
     "text": [
      "Optimal portfolio\n",
      "----------------------\n",
      " Investment in MSFT : 58.28% of the portfolio\n",
      " Investment in V : 20.43% of the portfolio\n",
      " Investment in WMT : 21.29% of the portfolio\n",
      "----------------------\n",
      "Exp ret = 2.0%\n",
      "Expected risk    = 3.83%\n"
     ]
    }
   ],
   "source": [
    "### Try solving the problem (within a `try/except` loop)\n",
    "\n",
    "try:\n",
    "    prob.solve()\n",
    "    print (\"Optimal portfolio\")\n",
    "    print (\"----------------------\")\n",
    "    for s in range(len(symbols)):\n",
    "       print (\" Investment in {} : {}% of the portfolio\".format(symbols[s],round(100*x.value[s],2)))\n",
    "    print (\"----------------------\")\n",
    "    print (\"Exp ret = {}%\".format(round(100*ret.value,2)))\n",
    "    print (\"Expected risk    = {}%\".format(round(100*risk.value**0.5,2)))\n",
    "except:\n",
    "    print (\"Error\")"
   ]
  },
  {
   "cell_type": "code",
   "execution_count": 52,
   "metadata": {},
   "outputs": [
    {
     "data": {
      "text/plain": [
       "'optimal'"
      ]
     },
     "execution_count": 52,
     "metadata": {},
     "output_type": "execute_result"
    }
   ],
   "source": [
    "prob.status"
   ]
  },
  {
   "cell_type": "code",
   "execution_count": 53,
   "metadata": {},
   "outputs": [
    {
     "data": {
      "text/plain": [
       "array([0.58281755, 0.20432414, 0.21285832])"
      ]
     },
     "execution_count": 53,
     "metadata": {},
     "output_type": "execute_result"
    }
   ],
   "source": [
    "x.value"
   ]
  },
  {
   "cell_type": "markdown",
   "metadata": {},
   "source": [
    "## Best Seller"
   ]
  },
  {
   "cell_type": "markdown",
   "metadata": {},
   "source": [
    "**Problem Formulation:**\n",
    "You want to read the maximum number of books per year. However, at most you can only read for 5 hours per week. What should your reading list look like if you want to cover most of New York Times Best Seller List \n",
    "\n",
    "**Assuming that average speed of reading The average reader snails through prose at a rate of about 250-300 words per minute, which roughly equates to about one page per minute, we assume 60 pages/ hour is the regular speed.\n",
    "\n",
    "----------\n",
    "> - Objective: Maximizr Number of Books Read\n",
    "> - LP Form: Maximization\n",
    "> - Decision Variables: Binary Variables whether we should read the book or not.\n",
    "> - Constrains: Limited Number of Time available to read per week"
   ]
  },
  {
   "cell_type": "code",
   "execution_count": 54,
   "metadata": {},
   "outputs": [],
   "source": [
    "from pulp import *\n",
    "import numpy as np\n",
    "import pandas as pd\n",
    "import re \n",
    "import matplotlib.pyplot as plt\n",
    "from IPython.display import Image\n",
    "%matplotlib inline"
   ]
  },
  {
   "cell_type": "code",
   "execution_count": 55,
   "metadata": {},
   "outputs": [],
   "source": [
    "# getting data from :\n",
    "# https://www.goodreads.com/list/show/83612.NY_Times_Fiction_Best_Sellers_2015"
   ]
  },
  {
   "cell_type": "code",
   "execution_count": 56,
   "metadata": {},
   "outputs": [
    {
     "data": {
      "text/html": [
       "<div>\n",
       "<style scoped>\n",
       "    .dataframe tbody tr th:only-of-type {\n",
       "        vertical-align: middle;\n",
       "    }\n",
       "\n",
       "    .dataframe tbody tr th {\n",
       "        vertical-align: top;\n",
       "    }\n",
       "\n",
       "    .dataframe thead th {\n",
       "        text-align: right;\n",
       "    }\n",
       "</style>\n",
       "<table border=\"1\" class=\"dataframe\">\n",
       "  <thead>\n",
       "    <tr style=\"text-align: right;\">\n",
       "      <th></th>\n",
       "      <th>_position</th>\n",
       "      <th>book_name</th>\n",
       "      <th>goodreads_score</th>\n",
       "      <th>author</th>\n",
       "      <th>rating</th>\n",
       "      <th>url</th>\n",
       "      <th>my_column/_source</th>\n",
       "      <th>rating.1</th>\n",
       "      <th>total_ratings</th>\n",
       "      <th>pages</th>\n",
       "    </tr>\n",
       "  </thead>\n",
       "  <tbody>\n",
       "    <tr>\n",
       "      <th>0</th>\n",
       "      <td>1</td>\n",
       "      <td>All the Light We Cannot See</td>\n",
       "      <td>3288</td>\n",
       "      <td>Anthony Doerr</td>\n",
       "      <td>4.29 of 5 stars 4.29 avg rating  179,342 ratings</td>\n",
       "      <td>https://www.goodreads.com/book/show/18143977-a...</td>\n",
       "      <td>/book/show/18143977-all-the-light-we-cannot-see</td>\n",
       "      <td>4.29</td>\n",
       "      <td>179342</td>\n",
       "      <td>530</td>\n",
       "    </tr>\n",
       "    <tr>\n",
       "      <th>1</th>\n",
       "      <td>2</td>\n",
       "      <td>The Fault in Our Stars</td>\n",
       "      <td>2471</td>\n",
       "      <td>John Green</td>\n",
       "      <td>4.36 of 5 stars 4.36 avg rating  1,577,550 ra...</td>\n",
       "      <td>https://www.goodreads.com/book/show/11870085-t...</td>\n",
       "      <td>/book/show/11870085-the-fault-in-our-stars</td>\n",
       "      <td>4.36</td>\n",
       "      <td>1577550</td>\n",
       "      <td>313</td>\n",
       "    </tr>\n",
       "    <tr>\n",
       "      <th>2</th>\n",
       "      <td>3</td>\n",
       "      <td>The Nightingale</td>\n",
       "      <td>2196</td>\n",
       "      <td>Kristin Hannah</td>\n",
       "      <td>4.54 of 5 stars 4.54 avg rating  52,099 ratings</td>\n",
       "      <td>https://www.goodreads.com/book/show/21853621-t...</td>\n",
       "      <td>/book/show/21853621-the-nightingale</td>\n",
       "      <td>4.54</td>\n",
       "      <td>52099</td>\n",
       "      <td>438</td>\n",
       "    </tr>\n",
       "    <tr>\n",
       "      <th>3</th>\n",
       "      <td>4</td>\n",
       "      <td>The Girl on the Train</td>\n",
       "      <td>2188</td>\n",
       "      <td>Paula Hawkins</td>\n",
       "      <td>3.86 of 5 stars 3.86 avg rating  282,985 ratings</td>\n",
       "      <td>https://www.goodreads.com/book/show/22557272-t...</td>\n",
       "      <td>/book/show/22557272-the-girl-on-the-train</td>\n",
       "      <td>3.86</td>\n",
       "      <td>282985</td>\n",
       "      <td>323</td>\n",
       "    </tr>\n",
       "    <tr>\n",
       "      <th>4</th>\n",
       "      <td>5</td>\n",
       "      <td>Gone Girl</td>\n",
       "      <td>1756</td>\n",
       "      <td>Gillian Flynn</td>\n",
       "      <td>3.98 of 5 stars 3.98 avg rating  1,083,869 ra...</td>\n",
       "      <td>https://www.goodreads.com/book/show/19288043-g...</td>\n",
       "      <td>/book/show/19288043-gone-girl</td>\n",
       "      <td>3.98</td>\n",
       "      <td>1083869</td>\n",
       "      <td>422</td>\n",
       "    </tr>\n",
       "  </tbody>\n",
       "</table>\n",
       "</div>"
      ],
      "text/plain": [
       "   _position                    book_name  goodreads_score          author  \\\n",
       "0          1  All the Light We Cannot See             3288   Anthony Doerr   \n",
       "1          2       The Fault in Our Stars             2471      John Green   \n",
       "2          3              The Nightingale             2196  Kristin Hannah   \n",
       "3          4        The Girl on the Train             2188   Paula Hawkins   \n",
       "4          5                    Gone Girl             1756   Gillian Flynn   \n",
       "\n",
       "                                              rating  \\\n",
       "0  4.29 of 5 stars 4.29 avg rating  179,342 ratings   \n",
       "1  4.36 of 5 stars 4.36 avg rating  1,577,550 ra...   \n",
       "2   4.54 of 5 stars 4.54 avg rating  52,099 ratings   \n",
       "3  3.86 of 5 stars 3.86 avg rating  282,985 ratings   \n",
       "4  3.98 of 5 stars 3.98 avg rating  1,083,869 ra...   \n",
       "\n",
       "                                                 url  \\\n",
       "0  https://www.goodreads.com/book/show/18143977-a...   \n",
       "1  https://www.goodreads.com/book/show/11870085-t...   \n",
       "2  https://www.goodreads.com/book/show/21853621-t...   \n",
       "3  https://www.goodreads.com/book/show/22557272-t...   \n",
       "4  https://www.goodreads.com/book/show/19288043-g...   \n",
       "\n",
       "                                 my_column/_source  rating.1  total_ratings  \\\n",
       "0  /book/show/18143977-all-the-light-we-cannot-see      4.29         179342   \n",
       "1       /book/show/11870085-the-fault-in-our-stars      4.36        1577550   \n",
       "2              /book/show/21853621-the-nightingale      4.54          52099   \n",
       "3        /book/show/22557272-the-girl-on-the-train      3.86         282985   \n",
       "4                    /book/show/19288043-gone-girl      3.98        1083869   \n",
       "\n",
       "   pages  \n",
       "0    530  \n",
       "1    313  \n",
       "2    438  \n",
       "3    323  \n",
       "4    422  "
      ]
     },
     "execution_count": 56,
     "metadata": {},
     "output_type": "execute_result"
    }
   ],
   "source": [
    "data = pd.read_csv('goodreads_bestsellers.csv', sep=',', encoding='latin-1')\n",
    "data[:5]"
   ]
  },
  {
   "cell_type": "code",
   "execution_count": 57,
   "metadata": {},
   "outputs": [
    {
     "data": {
      "image/png": "[encoded data removed]",
      "text/plain": [
       "<Figure size 432x288 with 2 Axes>"
      ]
     },
     "metadata": {
      "needs_background": "light"
     },
     "output_type": "display_data"
    }
   ],
   "source": [
    "fig, axs = plt.subplots(1,2)\n",
    "my_plot = data[['book_name', 'pages']].plot(kind='bar', title=\"Destination by Cost\", ax=axs[0])\n",
    "my_plot = data[['book_name', 'rating.1']].plot(kind='bar', title=\"Destination by Duration\", ax=axs[1])\n",
    "# my_plot.set_xlabel(\"destination\")"
   ]
  },
  {
   "cell_type": "code",
   "execution_count": 58,
   "metadata": {},
   "outputs": [],
   "source": [
    "# create the LP object, set up as a maximization problem --> since we want to maximize the number of books we read in a year\n",
    "prob = pulp.LpProblem('BuyingBestsellers', pulp.LpMaximize)"
   ]
  },
  {
   "cell_type": "code",
   "execution_count": 59,
   "metadata": {},
   "outputs": [
    {
     "name": "stdout",
     "output_type": "stream",
     "text": [
      "Total number of decision_variables: 82\n"
     ]
    }
   ],
   "source": [
    "#create decision - yes or no to buy the book?\n",
    "decision_variables = []\n",
    "for rownum, row in data.iterrows():\n",
    "\tvariable = str('x' + str(rownum))\n",
    "\tvariable = pulp.LpVariable(str(variable), lowBound = 0, upBound = 1, cat= 'Integer') #make variables binary\n",
    "\tdecision_variables.append(variable)\n",
    "\n",
    "print (\"Total number of decision_variables: \" + str(len(decision_variables)))\n"
   ]
  },
  {
   "cell_type": "code",
   "execution_count": 60,
   "metadata": {},
   "outputs": [
    {
     "name": "stdout",
     "output_type": "stream",
     "text": [
      "Optimization function: x0 + x1 + x10 + x11 + x12 + x13 + x14 + x15 + x16 + x17 + x18 + x19 + x2 + x20 + x21 + x22 + x23 + x24 + x25 + x26 + x27 + x28 + x29 + x3 + x30 + x31 + x32 + x33 + x34 + x35 + x36 + x37 + x38 + x39 + x4 + x40 + x41 + x42 + x43 + x44 + x45 + x46 + x47 + x48 + x49 + x5 + x50 + x51 + x52 + x53 + x54 + x55 + x56 + x57 + x58 + x59 + x6 + x60 + x61 + x62 + x63 + x64 + x65 + x66 + x67 + x68 + x69 + x7 + x70 + x71 + x72 + x73 + x74 + x75 + x76 + x77 + x78 + x79 + x8 + x80 + x81 + x9\n"
     ]
    }
   ],
   "source": [
    "#create optimization function\n",
    "total_books = \"\"\n",
    "for i, book in enumerate(decision_variables):\n",
    "\ttotal_books += book\n",
    "\n",
    "prob += total_books\n",
    "print (\"Optimization function: \" + str(total_books))\t"
   ]
  },
  {
   "cell_type": "code",
   "execution_count": 61,
   "metadata": {},
   "outputs": [],
   "source": [
    "# define the constrain\n",
    "\n",
    "hours_week_read = 5\n",
    "pages_per_hour = 60"
   ]
  },
  {
   "cell_type": "code",
   "execution_count": 62,
   "metadata": {},
   "outputs": [],
   "source": [
    "#create constrains - there are only 365 days\n",
    "\n",
    "total_pages_needs_to_read = \"\"\n",
    "for rownum, row in data.iterrows():\n",
    "\tfor i, schedule in enumerate(decision_variables):\n",
    "\t\tif rownum == i:\n",
    "\t\t\tformula = row['pages']*schedule\n",
    "\t\t\ttotal_pages_needs_to_read += formula\n",
    "\n",
    "total_pages_can_read = 52*hours_week_read*pages_per_hour\n",
    "\n",
    "prob += (total_pages_needs_to_read == total_pages_can_read)\n"
   ]
  },
  {
   "cell_type": "code",
   "execution_count": 63,
   "metadata": {},
   "outputs": [
    {
     "name": "stdout",
     "output_type": "stream",
     "text": [
      "BuyingBestsellers:\n",
      "MAXIMIZE\n",
      "1*x0 + 1*x1 + 1*x10 + 1*x11 + 1*x12 + 1*x13 + 1*x14 + 1*x15 + 1*x16 + 1*x17 + 1*x18 + 1*x19 + 1*x2 + 1*x20 + 1*x21 + 1*x22 + 1*x23 + 1*x24 + 1*x25 + 1*x26 + 1*x27 + 1*x28 + 1*x29 + 1*x3 + 1*x30 + 1*x31 + 1*x32 + 1*x33 + 1*x34 + 1*x35 + 1*x36 + 1*x37 + 1*x38 + 1*x39 + 1*x4 + 1*x40 + 1*x41 + 1*x42 + 1*x43 + 1*x44 + 1*x45 + 1*x46 + 1*x47 + 1*x48 + 1*x49 + 1*x5 + 1*x50 + 1*x51 + 1*x52 + 1*x53 + 1*x54 + 1*x55 + 1*x56 + 1*x57 + 1*x58 + 1*x59 + 1*x6 + 1*x60 + 1*x61 + 1*x62 + 1*x63 + 1*x64 + 1*x65 + 1*x66 + 1*x67 + 1*x68 + 1*x69 + 1*x7 + 1*x70 + 1*x71 + 1*x72 + 1*x73 + 1*x74 + 1*x75 + 1*x76 + 1*x77 + 1*x78 + 1*x79 + 1*x8 + 1*x80 + 1*x81 + 1*x9 + 0\n",
      "SUBJECT TO\n",
      "_C1: 530 x0 + 313 x1 + 369 x10 + 470 x11 + 294 x12 + 309 x13 + 358 x14\n",
      " + 396 x15 + 392 x16 + 405 x17 + 1098 x18 + 398 x19 + 438 x2 + 447 x20\n",
      " + 336 x21 + 387 x22 + 405 x23 + 388 x24 + 404 x25 + 674 x26 + 487 x27\n",
      " + 624 x28 + 352 x29 + 323 x3 + 291 x30 + 511 x31 + 415 x32 + 400 x33\n",
      " + 397 x34 + 368 x35 + 320 x36 + 324 x37 + 320 x38 + 400 x39 + 422 x4\n",
      " + 409 x40 + 330 x41 + 320 x42 + 374 x43 + 450 x44 + 327 x45 + 352 x46\n",
      " + 475 x47 + 448 x48 + 376 x49 + 278 x5 + 179 x50 + 369 x51 + 317 x52\n",
      " + 431 x53 + 328 x54 + 458 x55 + 416 x56 + 288 x57 + 352 x58 + 452 x59\n",
      " + 771 x6 + 302 x60 + 481 x61 + 405 x62 + 464 x63 + 310 x64 + 400 x65\n",
      " + 276 x66 + 510 x67 + 376 x68 + 352 x69 + 368 x7 + 512 x70 + 318 x71\n",
      " + 304 x72 + 320 x73 + 416 x74 + 311 x75 + 566 x76 + 352 x77 + 384 x78\n",
      " + 880 x79 + 460 x8 + 421 x80 + 640 x81 + 384 x9 = 15600\n",
      "\n",
      "VARIABLES\n",
      "0 <= x0 <= 1 Integer\n",
      "0 <= x1 <= 1 Integer\n",
      "0 <= x10 <= 1 Integer\n",
      "0 <= x11 <= 1 Integer\n",
      "0 <= x12 <= 1 Integer\n",
      "0 <= x13 <= 1 Integer\n",
      "0 <= x14 <= 1 Integer\n",
      "0 <= x15 <= 1 Integer\n",
      "0 <= x16 <= 1 Integer\n",
      "0 <= x17 <= 1 Integer\n",
      "0 <= x18 <= 1 Integer\n",
      "0 <= x19 <= 1 Integer\n",
      "0 <= x2 <= 1 Integer\n",
      "0 <= x20 <= 1 Integer\n",
      "0 <= x21 <= 1 Integer\n",
      "0 <= x22 <= 1 Integer\n",
      "0 <= x23 <= 1 Integer\n",
      "0 <= x24 <= 1 Integer\n",
      "0 <= x25 <= 1 Integer\n",
      "0 <= x26 <= 1 Integer\n",
      "0 <= x27 <= 1 Integer\n",
      "0 <= x28 <= 1 Integer\n",
      "0 <= x29 <= 1 Integer\n",
      "0 <= x3 <= 1 Integer\n",
      "0 <= x30 <= 1 Integer\n",
      "0 <= x31 <= 1 Integer\n",
      "0 <= x32 <= 1 Integer\n",
      "0 <= x33 <= 1 Integer\n",
      "0 <= x34 <= 1 Integer\n",
      "0 <= x35 <= 1 Integer\n",
      "0 <= x36 <= 1 Integer\n",
      "0 <= x37 <= 1 Integer\n",
      "0 <= x38 <= 1 Integer\n",
      "0 <= x39 <= 1 Integer\n",
      "0 <= x4 <= 1 Integer\n",
      "0 <= x40 <= 1 Integer\n",
      "0 <= x41 <= 1 Integer\n",
      "0 <= x42 <= 1 Integer\n",
      "0 <= x43 <= 1 Integer\n",
      "0 <= x44 <= 1 Integer\n",
      "0 <= x45 <= 1 Integer\n",
      "0 <= x46 <= 1 Integer\n",
      "0 <= x47 <= 1 Integer\n",
      "0 <= x48 <= 1 Integer\n",
      "0 <= x49 <= 1 Integer\n",
      "0 <= x5 <= 1 Integer\n",
      "0 <= x50 <= 1 Integer\n",
      "0 <= x51 <= 1 Integer\n",
      "0 <= x52 <= 1 Integer\n",
      "0 <= x53 <= 1 Integer\n",
      "0 <= x54 <= 1 Integer\n",
      "0 <= x55 <= 1 Integer\n",
      "0 <= x56 <= 1 Integer\n",
      "0 <= x57 <= 1 Integer\n",
      "0 <= x58 <= 1 Integer\n",
      "0 <= x59 <= 1 Integer\n",
      "0 <= x6 <= 1 Integer\n",
      "0 <= x60 <= 1 Integer\n",
      "0 <= x61 <= 1 Integer\n",
      "0 <= x62 <= 1 Integer\n",
      "0 <= x63 <= 1 Integer\n",
      "0 <= x64 <= 1 Integer\n",
      "0 <= x65 <= 1 Integer\n",
      "0 <= x66 <= 1 Integer\n",
      "0 <= x67 <= 1 Integer\n",
      "0 <= x68 <= 1 Integer\n",
      "0 <= x69 <= 1 Integer\n",
      "0 <= x7 <= 1 Integer\n",
      "0 <= x70 <= 1 Integer\n",
      "0 <= x71 <= 1 Integer\n",
      "0 <= x72 <= 1 Integer\n",
      "0 <= x73 <= 1 Integer\n",
      "0 <= x74 <= 1 Integer\n",
      "0 <= x75 <= 1 Integer\n",
      "0 <= x76 <= 1 Integer\n",
      "0 <= x77 <= 1 Integer\n",
      "0 <= x78 <= 1 Integer\n",
      "0 <= x79 <= 1 Integer\n",
      "0 <= x8 <= 1 Integer\n",
      "0 <= x80 <= 1 Integer\n",
      "0 <= x81 <= 1 Integer\n",
      "0 <= x9 <= 1 Integer\n",
      "\n"
     ]
    }
   ],
   "source": [
    "print(prob)\n",
    "prob.writeLP(\"BuyingBestsellers.lp\" )"
   ]
  },
  {
   "cell_type": "code",
   "execution_count": 64,
   "metadata": {},
   "outputs": [
    {
     "name": "stdout",
     "output_type": "stream",
     "text": [
      "Status: Optimal\n",
      "Individual decision_variables: \n",
      "x0 = 0.0\n",
      "x1 = 1.0\n",
      "x10 = 1.0\n",
      "x11 = 0.0\n",
      "x12 = 1.0\n",
      "x13 = 1.0\n",
      "x14 = 1.0\n",
      "x15 = 0.0\n",
      "x16 = 1.0\n",
      "x17 = 0.0\n",
      "x18 = 0.0\n",
      "x19 = 0.0\n",
      "x2 = 0.0\n",
      "x20 = 0.0\n",
      "x21 = 1.0\n",
      "x22 = 1.0\n",
      "x23 = 0.0\n",
      "x24 = 1.0\n",
      "x25 = 1.0\n",
      "x26 = 0.0\n",
      "x27 = 0.0\n",
      "x28 = 0.0\n",
      "x29 = 1.0\n",
      "x3 = 1.0\n",
      "x30 = 1.0\n",
      "x31 = 0.0\n",
      "x32 = 0.0\n",
      "x33 = 1.0\n",
      "x34 = 0.0\n",
      "x35 = 1.0\n",
      "x36 = 1.0\n",
      "x37 = 1.0\n",
      "x38 = 1.0\n",
      "x39 = 0.0\n",
      "x4 = 0.0\n",
      "x40 = 0.0\n",
      "x41 = 1.0\n",
      "x42 = 1.0\n",
      "x43 = 1.0\n",
      "x44 = 0.0\n",
      "x45 = 1.0\n",
      "x46 = 1.0\n",
      "x47 = 0.0\n",
      "x48 = 0.0\n",
      "x49 = 1.0\n",
      "x5 = 1.0\n",
      "x50 = 1.0\n",
      "x51 = 1.0\n",
      "x52 = 1.0\n",
      "x53 = 0.0\n",
      "x54 = 1.0\n",
      "x55 = 0.0\n",
      "x56 = 0.0\n",
      "x57 = 1.0\n",
      "x58 = 1.0\n",
      "x59 = 0.0\n",
      "x6 = 0.0\n",
      "x60 = 1.0\n",
      "x61 = 0.0\n",
      "x62 = 1.0\n",
      "x63 = 0.0\n",
      "x64 = 1.0\n",
      "x65 = 1.0\n",
      "x66 = 1.0\n",
      "x67 = 0.0\n",
      "x68 = 1.0\n",
      "x69 = 1.0\n",
      "x7 = 1.0\n",
      "x70 = 0.0\n",
      "x71 = 1.0\n",
      "x72 = 1.0\n",
      "x73 = 1.0\n",
      "x74 = 0.0\n",
      "x75 = 1.0\n",
      "x76 = 0.0\n",
      "x77 = 1.0\n",
      "x78 = 1.0\n",
      "x79 = 0.0\n",
      "x8 = 0.0\n",
      "x80 = 0.0\n",
      "x81 = 0.0\n",
      "x9 = 1.0\n"
     ]
    }
   ],
   "source": [
    "#now run optimization\n",
    "optimization_result = prob.solve()\n",
    "assert optimization_result == pulp.LpStatusOptimal\n",
    "print(\"Status:\", LpStatus[prob.status])\n",
    "# print(\"Optimal Solution to the problem: \", value(prob.objective))\n",
    "print (\"Individual decision_variables: \")\n",
    "for v in prob.variables():\n",
    "\tprint(v.name, \"=\", v.varValue)"
   ]
  },
  {
   "cell_type": "code",
   "execution_count": 65,
   "metadata": {},
   "outputs": [
    {
     "name": "stderr",
     "output_type": "stream",
     "text": [
      "C:\\Users\\MSI GL62-7RDX\\Anaconda3\\lib\\site-packages\\ipykernel_launcher.py:14: FutureWarning: by argument to sort_index is deprecated, please use .sort_values(by=...)\n",
      "  \n"
     ]
    }
   ],
   "source": [
    "#reorder results\n",
    "variable_name = []\n",
    "variable_value = []\n",
    "\n",
    "for v in prob.variables():\n",
    "\tvariable_name.append(v.name)\n",
    "\tvariable_value.append(v.varValue)\n",
    "\n",
    "df = pd.DataFrame({'variable': variable_name, 'value': variable_value})\n",
    "for rownum, row in df.iterrows():\n",
    "\tvalue = re.findall(r'(\\d+)', row['variable'])\n",
    "\tdf.loc[rownum, 'variable'] = int(value[0])\n",
    "\n",
    "df = df.sort_index(by='variable')\n",
    "\n",
    "#append results\n",
    "for rownum, row in data.iterrows():\n",
    "\tfor results_rownum, results_row in df.iterrows():\n",
    "\t\tif rownum == results_row['variable']:\n",
    "\t\t\tdata.loc[rownum, 'decision'] = results_row['value']"
   ]
  },
  {
   "cell_type": "code",
   "execution_count": 66,
   "metadata": {},
   "outputs": [
    {
     "data": {
      "text/html": [
       "<div>\n",
       "<style scoped>\n",
       "    .dataframe tbody tr th:only-of-type {\n",
       "        vertical-align: middle;\n",
       "    }\n",
       "\n",
       "    .dataframe tbody tr th {\n",
       "        vertical-align: top;\n",
       "    }\n",
       "\n",
       "    .dataframe thead th {\n",
       "        text-align: right;\n",
       "    }\n",
       "</style>\n",
       "<table border=\"1\" class=\"dataframe\">\n",
       "  <thead>\n",
       "    <tr style=\"text-align: right;\">\n",
       "      <th></th>\n",
       "      <th>_position</th>\n",
       "      <th>book_name</th>\n",
       "      <th>goodreads_score</th>\n",
       "      <th>author</th>\n",
       "      <th>rating</th>\n",
       "      <th>url</th>\n",
       "      <th>my_column/_source</th>\n",
       "      <th>rating.1</th>\n",
       "      <th>total_ratings</th>\n",
       "      <th>pages</th>\n",
       "      <th>decision</th>\n",
       "    </tr>\n",
       "  </thead>\n",
       "  <tbody>\n",
       "    <tr>\n",
       "      <th>1</th>\n",
       "      <td>2</td>\n",
       "      <td>The Fault in Our Stars</td>\n",
       "      <td>2471</td>\n",
       "      <td>John Green</td>\n",
       "      <td>4.36 of 5 stars 4.36 avg rating  1,577,550 ra...</td>\n",
       "      <td>https://www.goodreads.com/book/show/11870085-t...</td>\n",
       "      <td>/book/show/11870085-the-fault-in-our-stars</td>\n",
       "      <td>4.36</td>\n",
       "      <td>1577550</td>\n",
       "      <td>313</td>\n",
       "      <td>1.0</td>\n",
       "    </tr>\n",
       "    <tr>\n",
       "      <th>3</th>\n",
       "      <td>4</td>\n",
       "      <td>The Girl on the Train</td>\n",
       "      <td>2188</td>\n",
       "      <td>Paula Hawkins</td>\n",
       "      <td>3.86 of 5 stars 3.86 avg rating  282,985 ratings</td>\n",
       "      <td>https://www.goodreads.com/book/show/22557272-t...</td>\n",
       "      <td>/book/show/22557272-the-girl-on-the-train</td>\n",
       "      <td>3.86</td>\n",
       "      <td>282985</td>\n",
       "      <td>323</td>\n",
       "      <td>1.0</td>\n",
       "    </tr>\n",
       "    <tr>\n",
       "      <th>5</th>\n",
       "      <td>6</td>\n",
       "      <td>Orphan Train</td>\n",
       "      <td>1581</td>\n",
       "      <td>Christina Baker Kline</td>\n",
       "      <td>4.1 of 5 stars 4.10 avg rating  150,431 ratings</td>\n",
       "      <td>https://www.goodreads.com/book/show/15818107-o...</td>\n",
       "      <td>/book/show/15818107-orphan-train</td>\n",
       "      <td>4.10</td>\n",
       "      <td>150431</td>\n",
       "      <td>278</td>\n",
       "      <td>1.0</td>\n",
       "    </tr>\n",
       "    <tr>\n",
       "      <th>7</th>\n",
       "      <td>8</td>\n",
       "      <td>Gray Mountain</td>\n",
       "      <td>1191</td>\n",
       "      <td>John Grisham</td>\n",
       "      <td>3.47 of 5 stars 3.47 avg rating  30,770 ratings</td>\n",
       "      <td>https://www.goodreads.com/book/show/20707959-g...</td>\n",
       "      <td>/book/show/20707959-gray-mountain</td>\n",
       "      <td>3.47</td>\n",
       "      <td>30770</td>\n",
       "      <td>368</td>\n",
       "      <td>1.0</td>\n",
       "    </tr>\n",
       "    <tr>\n",
       "      <th>9</th>\n",
       "      <td>10</td>\n",
       "      <td>The Invention of Wings</td>\n",
       "      <td>1165</td>\n",
       "      <td>Sue Monk Kidd</td>\n",
       "      <td>4.22 of 5 stars 4.22 avg rating  117,127 ratings</td>\n",
       "      <td>https://www.goodreads.com/book/show/18079776-t...</td>\n",
       "      <td>/book/show/18079776-the-invention-of-wings</td>\n",
       "      <td>4.22</td>\n",
       "      <td>117127</td>\n",
       "      <td>384</td>\n",
       "      <td>1.0</td>\n",
       "    </tr>\n",
       "    <tr>\n",
       "      <th>10</th>\n",
       "      <td>11</td>\n",
       "      <td>Me Before You</td>\n",
       "      <td>1070</td>\n",
       "      <td>Jojo Moyes</td>\n",
       "      <td>4.3 of 5 stars 4.30 avg rating  234,030 ratings</td>\n",
       "      <td>https://www.goodreads.com/book/show/15507958-m...</td>\n",
       "      <td>/book/show/15507958-me-before-you</td>\n",
       "      <td>4.30</td>\n",
       "      <td>234030</td>\n",
       "      <td>369</td>\n",
       "      <td>1.0</td>\n",
       "    </tr>\n",
       "    <tr>\n",
       "      <th>12</th>\n",
       "      <td>13</td>\n",
       "      <td>Sarah's Key</td>\n",
       "      <td>981</td>\n",
       "      <td>Tatiana de Rosnay</td>\n",
       "      <td>4.12 of 5 stars 4.12 avg rating  286,227 ratings</td>\n",
       "      <td>https://www.goodreads.com/book/show/556602.Sar...</td>\n",
       "      <td>/book/show/556602.Sarah_s_Key</td>\n",
       "      <td>4.12</td>\n",
       "      <td>286227</td>\n",
       "      <td>294</td>\n",
       "      <td>1.0</td>\n",
       "    </tr>\n",
       "    <tr>\n",
       "      <th>13</th>\n",
       "      <td>14</td>\n",
       "      <td>Before I Go</td>\n",
       "      <td>795</td>\n",
       "      <td>Colleen Oakley</td>\n",
       "      <td>3.8 of 5 stars 3.80 avg rating  5,613 ratings</td>\n",
       "      <td>https://www.goodreads.com/book/show/20871704-b...</td>\n",
       "      <td>/book/show/20871704-before-i-go</td>\n",
       "      <td>3.80</td>\n",
       "      <td>5613</td>\n",
       "      <td>309</td>\n",
       "      <td>1.0</td>\n",
       "    </tr>\n",
       "    <tr>\n",
       "      <th>14</th>\n",
       "      <td>15</td>\n",
       "      <td>A Spool of Blue Thread</td>\n",
       "      <td>684</td>\n",
       "      <td>Anne Tyler</td>\n",
       "      <td>3.46 of 5 stars 3.46 avg rating  20,403 ratings</td>\n",
       "      <td>https://www.goodreads.com/book/show/22501028-a...</td>\n",
       "      <td>/book/show/22501028-a-spool-of-blue-thread</td>\n",
       "      <td>3.46</td>\n",
       "      <td>20403</td>\n",
       "      <td>358</td>\n",
       "      <td>1.0</td>\n",
       "    </tr>\n",
       "    <tr>\n",
       "      <th>16</th>\n",
       "      <td>17</td>\n",
       "      <td>As Chimney Sweepers Come to Dust (Flavia de Lu...</td>\n",
       "      <td>596</td>\n",
       "      <td>Alan Bradley</td>\n",
       "      <td>3.93 of 5 stars 3.93 avg rating  8,623 ratings</td>\n",
       "      <td>https://www.goodreads.com/book/show/21874813-a...</td>\n",
       "      <td>/book/show/21874813-as-chimney-sweepers-come-t...</td>\n",
       "      <td>3.93</td>\n",
       "      <td>8623</td>\n",
       "      <td>392</td>\n",
       "      <td>1.0</td>\n",
       "    </tr>\n",
       "    <tr>\n",
       "      <th>21</th>\n",
       "      <td>22</td>\n",
       "      <td>Station Eleven</td>\n",
       "      <td>489</td>\n",
       "      <td>Emily St. John Mandel</td>\n",
       "      <td>4.01 of 5 stars 4.01 avg rating  82,188 ratings</td>\n",
       "      <td>https://www.goodreads.com/book/show/20170404-s...</td>\n",
       "      <td>/book/show/20170404-station-eleven</td>\n",
       "      <td>4.01</td>\n",
       "      <td>82188</td>\n",
       "      <td>336</td>\n",
       "      <td>1.0</td>\n",
       "    </tr>\n",
       "    <tr>\n",
       "      <th>22</th>\n",
       "      <td>23</td>\n",
       "      <td>Be Careful What You Wish For (The Clifton Chro...</td>\n",
       "      <td>477</td>\n",
       "      <td>Jeffrey Archer</td>\n",
       "      <td>3.92 of 5 stars 3.92 avg rating  8,999 ratings</td>\n",
       "      <td>https://www.goodreads.com/book/show/18404285-b...</td>\n",
       "      <td>/book/show/18404285-be-careful-what-you-wish-for</td>\n",
       "      <td>3.92</td>\n",
       "      <td>8999</td>\n",
       "      <td>387</td>\n",
       "      <td>1.0</td>\n",
       "    </tr>\n",
       "    <tr>\n",
       "      <th>24</th>\n",
       "      <td>25</td>\n",
       "      <td>The Burning Room (Harry Bosch, #19)</td>\n",
       "      <td>396</td>\n",
       "      <td>Michael Connelly</td>\n",
       "      <td>4.01 of 5 stars 4.01 avg rating  15,859 ratings</td>\n",
       "      <td>https://www.goodreads.com/book/show/20881071-t...</td>\n",
       "      <td>/book/show/20881071-the-burning-room</td>\n",
       "      <td>4.01</td>\n",
       "      <td>15859</td>\n",
       "      <td>388</td>\n",
       "      <td>1.0</td>\n",
       "    </tr>\n",
       "    <tr>\n",
       "      <th>25</th>\n",
       "      <td>26</td>\n",
       "      <td>Obsession in Death (In Death, #40)</td>\n",
       "      <td>396</td>\n",
       "      <td>J.D. Robb</td>\n",
       "      <td>4.32 of 5 stars 4.32 avg rating  7,057 ratings</td>\n",
       "      <td>https://www.goodreads.com/book/show/22571696-o...</td>\n",
       "      <td>/book/show/22571696-obsession-in-death</td>\n",
       "      <td>4.32</td>\n",
       "      <td>7057</td>\n",
       "      <td>404</td>\n",
       "      <td>1.0</td>\n",
       "    </tr>\n",
       "    <tr>\n",
       "      <th>29</th>\n",
       "      <td>30</td>\n",
       "      <td>Last to Die (Rizzoli &amp; Isles, #10)</td>\n",
       "      <td>292</td>\n",
       "      <td>Tess Gerritsen</td>\n",
       "      <td>4.08 of 5 stars 4.08 avg rating  14,541 ratings</td>\n",
       "      <td>https://www.goodreads.com/book/show/13272498-l...</td>\n",
       "      <td>/book/show/13272498-last-to-die</td>\n",
       "      <td>4.08</td>\n",
       "      <td>14541</td>\n",
       "      <td>352</td>\n",
       "      <td>1.0</td>\n",
       "    </tr>\n",
       "    <tr>\n",
       "      <th>30</th>\n",
       "      <td>31</td>\n",
       "      <td>First Frost (Waverley Family, #2)</td>\n",
       "      <td>287</td>\n",
       "      <td>Sarah Addison Allen</td>\n",
       "      <td>3.98 of 5 stars 3.98 avg rating  12,159 ratings</td>\n",
       "      <td>https://www.goodreads.com/book/show/21853633-f...</td>\n",
       "      <td>/book/show/21853633-first-frost</td>\n",
       "      <td>3.98</td>\n",
       "      <td>12159</td>\n",
       "      <td>291</td>\n",
       "      <td>1.0</td>\n",
       "    </tr>\n",
       "    <tr>\n",
       "      <th>33</th>\n",
       "      <td>34</td>\n",
       "      <td>Mightier Than the Sword (The Clifton Chronicle...</td>\n",
       "      <td>279</td>\n",
       "      <td>Jeffrey Archer</td>\n",
       "      <td>3.94 of 5 stars 3.94 avg rating  4,653 ratings</td>\n",
       "      <td>https://www.goodreads.com/book/show/21853645-m...</td>\n",
       "      <td>/book/show/21853645-mightier-than-the-sword</td>\n",
       "      <td>3.94</td>\n",
       "      <td>4653</td>\n",
       "      <td>400</td>\n",
       "      <td>1.0</td>\n",
       "    </tr>\n",
       "    <tr>\n",
       "      <th>35</th>\n",
       "      <td>36</td>\n",
       "      <td>All the Single Ladies</td>\n",
       "      <td>273</td>\n",
       "      <td>Dorothea Benton Frank</td>\n",
       "      <td>3.58 of 5 stars 3.58 avg rating  2,191 ratings</td>\n",
       "      <td>https://www.goodreads.com/book/show/23215447-a...</td>\n",
       "      <td>/book/show/23215447-all-the-single-ladies</td>\n",
       "      <td>3.58</td>\n",
       "      <td>2191</td>\n",
       "      <td>368</td>\n",
       "      <td>1.0</td>\n",
       "    </tr>\n",
       "    <tr>\n",
       "      <th>36</th>\n",
       "      <td>37</td>\n",
       "      <td>The Boston Girl</td>\n",
       "      <td>198</td>\n",
       "      <td>Anita Diamant</td>\n",
       "      <td>3.76 of 5 stars 3.76 avg rating  24,631 ratings</td>\n",
       "      <td>https://www.goodreads.com/book/show/22450859-t...</td>\n",
       "      <td>/book/show/22450859-the-boston-girl</td>\n",
       "      <td>3.76</td>\n",
       "      <td>24631</td>\n",
       "      <td>320</td>\n",
       "      <td>1.0</td>\n",
       "    </tr>\n",
       "    <tr>\n",
       "      <th>37</th>\n",
       "      <td>38</td>\n",
       "      <td>Dead Heat (Alpha &amp; Omega, #4)</td>\n",
       "      <td>198</td>\n",
       "      <td>Patricia Briggs</td>\n",
       "      <td>4.24 of 5 stars 4.24 avg rating  9,585 ratings</td>\n",
       "      <td>https://www.goodreads.com/book/show/18941694-d...</td>\n",
       "      <td>/book/show/18941694-dead-heat</td>\n",
       "      <td>4.24</td>\n",
       "      <td>9585</td>\n",
       "      <td>324</td>\n",
       "      <td>1.0</td>\n",
       "    </tr>\n",
       "    <tr>\n",
       "      <th>38</th>\n",
       "      <td>39</td>\n",
       "      <td>Rain on the Dead (Sean Dillon, #21)</td>\n",
       "      <td>197</td>\n",
       "      <td>Jack Higgins</td>\n",
       "      <td>3.56 of 5 stars 3.56 avg rating  661 ratings</td>\n",
       "      <td>https://www.goodreads.com/book/show/20821202-r...</td>\n",
       "      <td>/book/show/20821202-rain-on-the-dead</td>\n",
       "      <td>3.56</td>\n",
       "      <td>661</td>\n",
       "      <td>320</td>\n",
       "      <td>1.0</td>\n",
       "    </tr>\n",
       "    <tr>\n",
       "      <th>41</th>\n",
       "      <td>42</td>\n",
       "      <td>Die Again (Rizzoli &amp; Isles, #11)</td>\n",
       "      <td>196</td>\n",
       "      <td>Tess Gerritsen</td>\n",
       "      <td>4.16 of 5 stars 4.16 avg rating  6,866 ratings</td>\n",
       "      <td>https://www.goodreads.com/book/show/21489683-d...</td>\n",
       "      <td>/book/show/21489683-die-again</td>\n",
       "      <td>4.16</td>\n",
       "      <td>6866</td>\n",
       "      <td>330</td>\n",
       "      <td>1.0</td>\n",
       "    </tr>\n",
       "    <tr>\n",
       "      <th>42</th>\n",
       "      <td>43</td>\n",
       "      <td>Insatiable Appetites (Stone Barrington, #32)</td>\n",
       "      <td>196</td>\n",
       "      <td>Stuart Woods</td>\n",
       "      <td>3.69 of 5 stars 3.69 avg rating  1,901 ratings</td>\n",
       "      <td>https://www.goodreads.com/book/show/22521941-i...</td>\n",
       "      <td>/book/show/22521941-insatiable-appetites</td>\n",
       "      <td>3.69</td>\n",
       "      <td>1901</td>\n",
       "      <td>320</td>\n",
       "      <td>1.0</td>\n",
       "    </tr>\n",
       "    <tr>\n",
       "      <th>43</th>\n",
       "      <td>44</td>\n",
       "      <td>Hope to Die (Alex Cross, #22)</td>\n",
       "      <td>193</td>\n",
       "      <td>James Patterson</td>\n",
       "      <td>4.11 of 5 stars 4.11 avg rating  9,922 ratings</td>\n",
       "      <td>https://www.goodreads.com/book/show/20800147-h...</td>\n",
       "      <td>/book/show/20800147-hope-to-die</td>\n",
       "      <td>4.11</td>\n",
       "      <td>9922</td>\n",
       "      <td>374</td>\n",
       "      <td>1.0</td>\n",
       "    </tr>\n",
       "    <tr>\n",
       "      <th>45</th>\n",
       "      <td>46</td>\n",
       "      <td>Trust No One</td>\n",
       "      <td>191</td>\n",
       "      <td>Jayne Ann Krentz</td>\n",
       "      <td>3.79 of 5 stars 3.79 avg rating  3,108 ratings</td>\n",
       "      <td>https://www.goodreads.com/book/show/22459697-t...</td>\n",
       "      <td>/book/show/22459697-trust-no-one</td>\n",
       "      <td>3.79</td>\n",
       "      <td>3108</td>\n",
       "      <td>327</td>\n",
       "      <td>1.0</td>\n",
       "    </tr>\n",
       "    <tr>\n",
       "      <th>46</th>\n",
       "      <td>47</td>\n",
       "      <td>Saint Odd (Odd Thomas, #7)</td>\n",
       "      <td>188</td>\n",
       "      <td>Dean Koontz</td>\n",
       "      <td>4.09 of 5 stars 4.09 avg rating  6,747 ratings</td>\n",
       "      <td>https://www.goodreads.com/book/show/15722284-s...</td>\n",
       "      <td>/book/show/15722284-saint-odd</td>\n",
       "      <td>4.09</td>\n",
       "      <td>6747</td>\n",
       "      <td>352</td>\n",
       "      <td>1.0</td>\n",
       "    </tr>\n",
       "    <tr>\n",
       "      <th>49</th>\n",
       "      <td>50</td>\n",
       "      <td>The Fixer</td>\n",
       "      <td>171</td>\n",
       "      <td>Joseph Finder</td>\n",
       "      <td>3.75 of 5 stars 3.75 avg rating  1,435 ratings</td>\n",
       "      <td>https://www.goodreads.com/book/show/23281921-t...</td>\n",
       "      <td>/book/show/23281921-the-fixer</td>\n",
       "      <td>3.75</td>\n",
       "      <td>1435</td>\n",
       "      <td>376</td>\n",
       "      <td>1.0</td>\n",
       "    </tr>\n",
       "    <tr>\n",
       "      <th>50</th>\n",
       "      <td>51</td>\n",
       "      <td>Our Souls at Night</td>\n",
       "      <td>164</td>\n",
       "      <td>Kent Haruf</td>\n",
       "      <td>4.1 of 5 stars 4.10 avg rating  4,861 ratings</td>\n",
       "      <td>https://www.goodreads.com/book/show/23602562-o...</td>\n",
       "      <td>/book/show/23602562-our-souls-at-night</td>\n",
       "      <td>4.10</td>\n",
       "      <td>4861</td>\n",
       "      <td>179</td>\n",
       "      <td>1.0</td>\n",
       "    </tr>\n",
       "    <tr>\n",
       "      <th>51</th>\n",
       "      <td>52</td>\n",
       "      <td>Flesh and Blood (Kay Scarpetta, #22)</td>\n",
       "      <td>100</td>\n",
       "      <td>Patricia Cornwell</td>\n",
       "      <td>3.62 of 5 stars 3.62 avg rating  6,640 ratings</td>\n",
       "      <td>https://www.goodreads.com/book/show/20768868-f...</td>\n",
       "      <td>/book/show/20768868-flesh-and-blood</td>\n",
       "      <td>3.62</td>\n",
       "      <td>6640</td>\n",
       "      <td>369</td>\n",
       "      <td>1.0</td>\n",
       "    </tr>\n",
       "    <tr>\n",
       "      <th>52</th>\n",
       "      <td>53</td>\n",
       "      <td>The Buried Giant</td>\n",
       "      <td>100</td>\n",
       "      <td>Kazuo Ishiguro</td>\n",
       "      <td>3.41 of 5 stars 3.41 avg rating  13,622 ratings</td>\n",
       "      <td>https://www.goodreads.com/book/show/22522805-t...</td>\n",
       "      <td>/book/show/22522805-the-buried-giant</td>\n",
       "      <td>3.41</td>\n",
       "      <td>13622</td>\n",
       "      <td>317</td>\n",
       "      <td>1.0</td>\n",
       "    </tr>\n",
       "    <tr>\n",
       "      <th>54</th>\n",
       "      <td>55</td>\n",
       "      <td>The Aureole of Enchantment</td>\n",
       "      <td>100</td>\n",
       "      <td>Donald Lani</td>\n",
       "      <td>5.0 of 5 stars 5.00 avg rating  1 rating</td>\n",
       "      <td>https://www.goodreads.com/book/show/25958013-t...</td>\n",
       "      <td>/book/show/25958013-the-aureole-of-enchantment</td>\n",
       "      <td>5.00</td>\n",
       "      <td>1</td>\n",
       "      <td>328</td>\n",
       "      <td>1.0</td>\n",
       "    </tr>\n",
       "    <tr>\n",
       "      <th>57</th>\n",
       "      <td>58</td>\n",
       "      <td>Redeployment</td>\n",
       "      <td>98</td>\n",
       "      <td>Phil Klay</td>\n",
       "      <td>4.0 of 5 stars 4.00 avg rating  11,302 ratings</td>\n",
       "      <td>https://www.goodreads.com/book/show/18114068-r...</td>\n",
       "      <td>/book/show/18114068-redeployment</td>\n",
       "      <td>4.00</td>\n",
       "      <td>11302</td>\n",
       "      <td>288</td>\n",
       "      <td>1.0</td>\n",
       "    </tr>\n",
       "    <tr>\n",
       "      <th>58</th>\n",
       "      <td>59</td>\n",
       "      <td>Dreaming Spies (Mary Russell and Sherlock Holm...</td>\n",
       "      <td>98</td>\n",
       "      <td>Laurie R. King</td>\n",
       "      <td>4.04 of 5 stars 4.04 avg rating  2,534 ratings</td>\n",
       "      <td>https://www.goodreads.com/book/show/22318363-d...</td>\n",
       "      <td>/book/show/22318363-dreaming-spies</td>\n",
       "      <td>4.04</td>\n",
       "      <td>2534</td>\n",
       "      <td>352</td>\n",
       "      <td>1.0</td>\n",
       "    </tr>\n",
       "    <tr>\n",
       "      <th>60</th>\n",
       "      <td>61</td>\n",
       "      <td>The Empty Throne (The Saxon Stories, #8)</td>\n",
       "      <td>97</td>\n",
       "      <td>Bernard Cornwell</td>\n",
       "      <td>4.34 of 5 stars 4.34 avg rating  3,012 ratings</td>\n",
       "      <td>https://www.goodreads.com/book/show/21045103-t...</td>\n",
       "      <td>/book/show/21045103-the-empty-throne</td>\n",
       "      <td>4.34</td>\n",
       "      <td>3012</td>\n",
       "      <td>302</td>\n",
       "      <td>1.0</td>\n",
       "    </tr>\n",
       "    <tr>\n",
       "      <th>62</th>\n",
       "      <td>63</td>\n",
       "      <td>No Fortunate Son (Pike Logan, #7)</td>\n",
       "      <td>96</td>\n",
       "      <td>Brad Taylor</td>\n",
       "      <td>4.27 of 5 stars 4.27 avg rating  1,220 ratings</td>\n",
       "      <td>https://www.goodreads.com/book/show/22522168-n...</td>\n",
       "      <td>/book/show/22522168-no-fortunate-son</td>\n",
       "      <td>4.27</td>\n",
       "      <td>1220</td>\n",
       "      <td>405</td>\n",
       "      <td>1.0</td>\n",
       "    </tr>\n",
       "    <tr>\n",
       "      <th>64</th>\n",
       "      <td>65</td>\n",
       "      <td>Trigger Warning: Short Fictions and Disturbances</td>\n",
       "      <td>95</td>\n",
       "      <td>Neil Gaiman</td>\n",
       "      <td>3.95 of 5 stars 3.95 avg rating  11,805 ratings</td>\n",
       "      <td>https://www.goodreads.com/book/show/22522808-t...</td>\n",
       "      <td>/book/show/22522808-trigger-warning</td>\n",
       "      <td>3.95</td>\n",
       "      <td>11805</td>\n",
       "      <td>310</td>\n",
       "      <td>1.0</td>\n",
       "    </tr>\n",
       "    <tr>\n",
       "      <th>65</th>\n",
       "      <td>66</td>\n",
       "      <td>Cold Cold Heart</td>\n",
       "      <td>94</td>\n",
       "      <td>Tami Hoag</td>\n",
       "      <td>3.8 of 5 stars 3.80 avg rating  4,822 ratings</td>\n",
       "      <td>https://www.goodreads.com/book/show/18693918-c...</td>\n",
       "      <td>/book/show/18693918-cold-cold-heart</td>\n",
       "      <td>3.80</td>\n",
       "      <td>4822</td>\n",
       "      <td>400</td>\n",
       "      <td>1.0</td>\n",
       "    </tr>\n",
       "    <tr>\n",
       "      <th>66</th>\n",
       "      <td>67</td>\n",
       "      <td>The First Bad Man</td>\n",
       "      <td>93</td>\n",
       "      <td>Miranda July</td>\n",
       "      <td>3.56 of 5 stars 3.56 avg rating  6,796 ratings</td>\n",
       "      <td>https://www.goodreads.com/book/show/21412400-t...</td>\n",
       "      <td>/book/show/21412400-the-first-bad-man</td>\n",
       "      <td>3.56</td>\n",
       "      <td>6796</td>\n",
       "      <td>276</td>\n",
       "      <td>1.0</td>\n",
       "    </tr>\n",
       "    <tr>\n",
       "      <th>68</th>\n",
       "      <td>69</td>\n",
       "      <td>Descent</td>\n",
       "      <td>89</td>\n",
       "      <td>Tim Johnston</td>\n",
       "      <td>3.66 of 5 stars 3.66 avg rating  6,077 ratings</td>\n",
       "      <td>https://www.goodreads.com/book/show/20312459-d...</td>\n",
       "      <td>/book/show/20312459-descent</td>\n",
       "      <td>3.66</td>\n",
       "      <td>6077</td>\n",
       "      <td>376</td>\n",
       "      <td>1.0</td>\n",
       "    </tr>\n",
       "    <tr>\n",
       "      <th>69</th>\n",
       "      <td>70</td>\n",
       "      <td>The Whites</td>\n",
       "      <td>88</td>\n",
       "      <td>Richard Price</td>\n",
       "      <td>3.67 of 5 stars 3.67 avg rating  2,577 ratings</td>\n",
       "      <td>https://www.goodreads.com/book/show/22895696-t...</td>\n",
       "      <td>/book/show/22895696-the-whites</td>\n",
       "      <td>3.67</td>\n",
       "      <td>2577</td>\n",
       "      <td>352</td>\n",
       "      <td>1.0</td>\n",
       "    </tr>\n",
       "    <tr>\n",
       "      <th>71</th>\n",
       "      <td>72</td>\n",
       "      <td>Prodigal Son</td>\n",
       "      <td>85</td>\n",
       "      <td>Danielle Steel</td>\n",
       "      <td>3.89 of 5 stars 3.89 avg rating  2,448 ratings</td>\n",
       "      <td>https://www.goodreads.com/book/show/22551744-p...</td>\n",
       "      <td>/book/show/22551744-prodigal-son</td>\n",
       "      <td>3.89</td>\n",
       "      <td>2448</td>\n",
       "      <td>318</td>\n",
       "      <td>1.0</td>\n",
       "    </tr>\n",
       "    <tr>\n",
       "      <th>72</th>\n",
       "      <td>73</td>\n",
       "      <td>Double Fudge Brownie Murder (Hannah Swensen, #18)</td>\n",
       "      <td>84</td>\n",
       "      <td>Joanne Fluke</td>\n",
       "      <td>3.44 of 5 stars 3.44 avg rating  1,999 ratings</td>\n",
       "      <td>https://www.goodreads.com/book/show/22544406-d...</td>\n",
       "      <td>/book/show/22544406-double-fudge-brownie-murder</td>\n",
       "      <td>3.44</td>\n",
       "      <td>1999</td>\n",
       "      <td>304</td>\n",
       "      <td>1.0</td>\n",
       "    </tr>\n",
       "    <tr>\n",
       "      <th>73</th>\n",
       "      <td>74</td>\n",
       "      <td>Hush Hush (Tess Monaghan, #12)</td>\n",
       "      <td>83</td>\n",
       "      <td>Laura Lippman</td>\n",
       "      <td>3.57 of 5 stars 3.57 avg rating  2,221 ratings</td>\n",
       "      <td>https://www.goodreads.com/book/show/22206617-h...</td>\n",
       "      <td>/book/show/22206617-hush-hush</td>\n",
       "      <td>3.57</td>\n",
       "      <td>2221</td>\n",
       "      <td>320</td>\n",
       "      <td>1.0</td>\n",
       "    </tr>\n",
       "    <tr>\n",
       "      <th>75</th>\n",
       "      <td>76</td>\n",
       "      <td>Radiant Angel (John Corey, #7)</td>\n",
       "      <td>79</td>\n",
       "      <td>Nelson DeMille</td>\n",
       "      <td>3.83 of 5 stars 3.83 avg rating  3,700 ratings</td>\n",
       "      <td>https://www.goodreads.com/book/show/23197346-r...</td>\n",
       "      <td>/book/show/23197346-radiant-angel</td>\n",
       "      <td>3.83</td>\n",
       "      <td>3700</td>\n",
       "      <td>311</td>\n",
       "      <td>1.0</td>\n",
       "    </tr>\n",
       "    <tr>\n",
       "      <th>77</th>\n",
       "      <td>78</td>\n",
       "      <td>Luckiest Girl Alive</td>\n",
       "      <td>76</td>\n",
       "      <td>Jessica Knoll</td>\n",
       "      <td>3.52 of 5 stars 3.52 avg rating  18,921 ratings</td>\n",
       "      <td>https://www.goodreads.com/book/show/22609317-l...</td>\n",
       "      <td>/book/show/22609317-luckiest-girl-alive</td>\n",
       "      <td>3.52</td>\n",
       "      <td>18921</td>\n",
       "      <td>352</td>\n",
       "      <td>1.0</td>\n",
       "    </tr>\n",
       "    <tr>\n",
       "      <th>78</th>\n",
       "      <td>79</td>\n",
       "      <td>14th Deadly Sin (WomenÍs Murder Club, #14)</td>\n",
       "      <td>74</td>\n",
       "      <td>James Patterson</td>\n",
       "      <td>3.89 of 5 stars 3.89 avg rating  7,808 ratings</td>\n",
       "      <td>https://www.goodreads.com/book/show/23346918-1...</td>\n",
       "      <td>/book/show/23346918-14th-deadly-sin</td>\n",
       "      <td>3.89</td>\n",
       "      <td>7808</td>\n",
       "      <td>384</td>\n",
       "      <td>1.0</td>\n",
       "    </tr>\n",
       "  </tbody>\n",
       "</table>\n",
       "</div>"
      ],
      "text/plain": [
       "    _position                                          book_name  \\\n",
       "1           2                             The Fault in Our Stars   \n",
       "3           4                              The Girl on the Train   \n",
       "5           6                                       Orphan Train   \n",
       "7           8                                      Gray Mountain   \n",
       "9          10                             The Invention of Wings   \n",
       "10         11                                      Me Before You   \n",
       "12         13                                        Sarah's Key   \n",
       "13         14                                        Before I Go   \n",
       "14         15                             A Spool of Blue Thread   \n",
       "16         17  As Chimney Sweepers Come to Dust (Flavia de Lu...   \n",
       "21         22                                     Station Eleven   \n",
       "22         23  Be Careful What You Wish For (The Clifton Chro...   \n",
       "24         25                The Burning Room (Harry Bosch, #19)   \n",
       "25         26                 Obsession in Death (In Death, #40)   \n",
       "29         30                 Last to Die (Rizzoli & Isles, #10)   \n",
       "30         31                  First Frost (Waverley Family, #2)   \n",
       "33         34  Mightier Than the Sword (The Clifton Chronicle...   \n",
       "35         36                              All the Single Ladies   \n",
       "36         37                                    The Boston Girl   \n",
       "37         38                      Dead Heat (Alpha & Omega, #4)   \n",
       "38         39                Rain on the Dead (Sean Dillon, #21)   \n",
       "41         42                   Die Again (Rizzoli & Isles, #11)   \n",
       "42         43       Insatiable Appetites (Stone Barrington, #32)   \n",
       "43         44                      Hope to Die (Alex Cross, #22)   \n",
       "45         46                                       Trust No One   \n",
       "46         47                         Saint Odd (Odd Thomas, #7)   \n",
       "49         50                                          The Fixer   \n",
       "50         51                                 Our Souls at Night   \n",
       "51         52               Flesh and Blood (Kay Scarpetta, #22)   \n",
       "52         53                                   The Buried Giant   \n",
       "54         55                         The Aureole of Enchantment   \n",
       "57         58                                       Redeployment   \n",
       "58         59  Dreaming Spies (Mary Russell and Sherlock Holm...   \n",
       "60         61           The Empty Throne (The Saxon Stories, #8)   \n",
       "62         63                  No Fortunate Son (Pike Logan, #7)   \n",
       "64         65   Trigger Warning: Short Fictions and Disturbances   \n",
       "65         66                                    Cold Cold Heart   \n",
       "66         67                                  The First Bad Man   \n",
       "68         69                                            Descent   \n",
       "69         70                                         The Whites   \n",
       "71         72                                       Prodigal Son   \n",
       "72         73  Double Fudge Brownie Murder (Hannah Swensen, #18)   \n",
       "73         74                     Hush Hush (Tess Monaghan, #12)   \n",
       "75         76                     Radiant Angel (John Corey, #7)   \n",
       "77         78                                Luckiest Girl Alive   \n",
       "78         79         14th Deadly Sin (WomenÍs Murder Club, #14)   \n",
       "\n",
       "    goodreads_score                 author  \\\n",
       "1              2471             John Green   \n",
       "3              2188          Paula Hawkins   \n",
       "5              1581  Christina Baker Kline   \n",
       "7              1191           John Grisham   \n",
       "9              1165          Sue Monk Kidd   \n",
       "10             1070             Jojo Moyes   \n",
       "12              981      Tatiana de Rosnay   \n",
       "13              795         Colleen Oakley   \n",
       "14              684             Anne Tyler   \n",
       "16              596           Alan Bradley   \n",
       "21              489  Emily St. John Mandel   \n",
       "22              477         Jeffrey Archer   \n",
       "24              396       Michael Connelly   \n",
       "25              396              J.D. Robb   \n",
       "29              292         Tess Gerritsen   \n",
       "30              287    Sarah Addison Allen   \n",
       "33              279         Jeffrey Archer   \n",
       "35              273  Dorothea Benton Frank   \n",
       "36              198          Anita Diamant   \n",
       "37              198        Patricia Briggs   \n",
       "38              197           Jack Higgins   \n",
       "41              196         Tess Gerritsen   \n",
       "42              196           Stuart Woods   \n",
       "43              193        James Patterson   \n",
       "45              191       Jayne Ann Krentz   \n",
       "46              188            Dean Koontz   \n",
       "49              171          Joseph Finder   \n",
       "50              164             Kent Haruf   \n",
       "51              100      Patricia Cornwell   \n",
       "52              100         Kazuo Ishiguro   \n",
       "54              100            Donald Lani   \n",
       "57               98              Phil Klay   \n",
       "58               98         Laurie R. King   \n",
       "60               97       Bernard Cornwell   \n",
       "62               96            Brad Taylor   \n",
       "64               95            Neil Gaiman   \n",
       "65               94              Tami Hoag   \n",
       "66               93           Miranda July   \n",
       "68               89           Tim Johnston   \n",
       "69               88          Richard Price   \n",
       "71               85         Danielle Steel   \n",
       "72               84           Joanne Fluke   \n",
       "73               83          Laura Lippman   \n",
       "75               79         Nelson DeMille   \n",
       "77               76          Jessica Knoll   \n",
       "78               74        James Patterson   \n",
       "\n",
       "                                               rating  \\\n",
       "1   4.36 of 5 stars 4.36 avg rating  1,577,550 ra...   \n",
       "3   3.86 of 5 stars 3.86 avg rating  282,985 ratings   \n",
       "5    4.1 of 5 stars 4.10 avg rating  150,431 ratings   \n",
       "7    3.47 of 5 stars 3.47 avg rating  30,770 ratings   \n",
       "9   4.22 of 5 stars 4.22 avg rating  117,127 ratings   \n",
       "10   4.3 of 5 stars 4.30 avg rating  234,030 ratings   \n",
       "12  4.12 of 5 stars 4.12 avg rating  286,227 ratings   \n",
       "13     3.8 of 5 stars 3.80 avg rating  5,613 ratings   \n",
       "14   3.46 of 5 stars 3.46 avg rating  20,403 ratings   \n",
       "16    3.93 of 5 stars 3.93 avg rating  8,623 ratings   \n",
       "21   4.01 of 5 stars 4.01 avg rating  82,188 ratings   \n",
       "22    3.92 of 5 stars 3.92 avg rating  8,999 ratings   \n",
       "24   4.01 of 5 stars 4.01 avg rating  15,859 ratings   \n",
       "25    4.32 of 5 stars 4.32 avg rating  7,057 ratings   \n",
       "29   4.08 of 5 stars 4.08 avg rating  14,541 ratings   \n",
       "30   3.98 of 5 stars 3.98 avg rating  12,159 ratings   \n",
       "33    3.94 of 5 stars 3.94 avg rating  4,653 ratings   \n",
       "35    3.58 of 5 stars 3.58 avg rating  2,191 ratings   \n",
       "36   3.76 of 5 stars 3.76 avg rating  24,631 ratings   \n",
       "37    4.24 of 5 stars 4.24 avg rating  9,585 ratings   \n",
       "38      3.56 of 5 stars 3.56 avg rating  661 ratings   \n",
       "41    4.16 of 5 stars 4.16 avg rating  6,866 ratings   \n",
       "42    3.69 of 5 stars 3.69 avg rating  1,901 ratings   \n",
       "43    4.11 of 5 stars 4.11 avg rating  9,922 ratings   \n",
       "45    3.79 of 5 stars 3.79 avg rating  3,108 ratings   \n",
       "46    4.09 of 5 stars 4.09 avg rating  6,747 ratings   \n",
       "49    3.75 of 5 stars 3.75 avg rating  1,435 ratings   \n",
       "50     4.1 of 5 stars 4.10 avg rating  4,861 ratings   \n",
       "51    3.62 of 5 stars 3.62 avg rating  6,640 ratings   \n",
       "52   3.41 of 5 stars 3.41 avg rating  13,622 ratings   \n",
       "54          5.0 of 5 stars 5.00 avg rating  1 rating   \n",
       "57    4.0 of 5 stars 4.00 avg rating  11,302 ratings   \n",
       "58    4.04 of 5 stars 4.04 avg rating  2,534 ratings   \n",
       "60    4.34 of 5 stars 4.34 avg rating  3,012 ratings   \n",
       "62    4.27 of 5 stars 4.27 avg rating  1,220 ratings   \n",
       "64   3.95 of 5 stars 3.95 avg rating  11,805 ratings   \n",
       "65     3.8 of 5 stars 3.80 avg rating  4,822 ratings   \n",
       "66    3.56 of 5 stars 3.56 avg rating  6,796 ratings   \n",
       "68    3.66 of 5 stars 3.66 avg rating  6,077 ratings   \n",
       "69    3.67 of 5 stars 3.67 avg rating  2,577 ratings   \n",
       "71    3.89 of 5 stars 3.89 avg rating  2,448 ratings   \n",
       "72    3.44 of 5 stars 3.44 avg rating  1,999 ratings   \n",
       "73    3.57 of 5 stars 3.57 avg rating  2,221 ratings   \n",
       "75    3.83 of 5 stars 3.83 avg rating  3,700 ratings   \n",
       "77   3.52 of 5 stars 3.52 avg rating  18,921 ratings   \n",
       "78    3.89 of 5 stars 3.89 avg rating  7,808 ratings   \n",
       "\n",
       "                                                  url  \\\n",
       "1   https://www.goodreads.com/book/show/11870085-t...   \n",
       "3   https://www.goodreads.com/book/show/22557272-t...   \n",
       "5   https://www.goodreads.com/book/show/15818107-o...   \n",
       "7   https://www.goodreads.com/book/show/20707959-g...   \n",
       "9   https://www.goodreads.com/book/show/18079776-t...   \n",
       "10  https://www.goodreads.com/book/show/15507958-m...   \n",
       "12  https://www.goodreads.com/book/show/556602.Sar...   \n",
       "13  https://www.goodreads.com/book/show/20871704-b...   \n",
       "14  https://www.goodreads.com/book/show/22501028-a...   \n",
       "16  https://www.goodreads.com/book/show/21874813-a...   \n",
       "21  https://www.goodreads.com/book/show/20170404-s...   \n",
       "22  https://www.goodreads.com/book/show/18404285-b...   \n",
       "24  https://www.goodreads.com/book/show/20881071-t...   \n",
       "25  https://www.goodreads.com/book/show/22571696-o...   \n",
       "29  https://www.goodreads.com/book/show/13272498-l...   \n",
       "30  https://www.goodreads.com/book/show/21853633-f...   \n",
       "33  https://www.goodreads.com/book/show/21853645-m...   \n",
       "35  https://www.goodreads.com/book/show/23215447-a...   \n",
       "36  https://www.goodreads.com/book/show/22450859-t...   \n",
       "37  https://www.goodreads.com/book/show/18941694-d...   \n",
       "38  https://www.goodreads.com/book/show/20821202-r...   \n",
       "41  https://www.goodreads.com/book/show/21489683-d...   \n",
       "42  https://www.goodreads.com/book/show/22521941-i...   \n",
       "43  https://www.goodreads.com/book/show/20800147-h...   \n",
       "45  https://www.goodreads.com/book/show/22459697-t...   \n",
       "46  https://www.goodreads.com/book/show/15722284-s...   \n",
       "49  https://www.goodreads.com/book/show/23281921-t...   \n",
       "50  https://www.goodreads.com/book/show/23602562-o...   \n",
       "51  https://www.goodreads.com/book/show/20768868-f...   \n",
       "52  https://www.goodreads.com/book/show/22522805-t...   \n",
       "54  https://www.goodreads.com/book/show/25958013-t...   \n",
       "57  https://www.goodreads.com/book/show/18114068-r...   \n",
       "58  https://www.goodreads.com/book/show/22318363-d...   \n",
       "60  https://www.goodreads.com/book/show/21045103-t...   \n",
       "62  https://www.goodreads.com/book/show/22522168-n...   \n",
       "64  https://www.goodreads.com/book/show/22522808-t...   \n",
       "65  https://www.goodreads.com/book/show/18693918-c...   \n",
       "66  https://www.goodreads.com/book/show/21412400-t...   \n",
       "68  https://www.goodreads.com/book/show/20312459-d...   \n",
       "69  https://www.goodreads.com/book/show/22895696-t...   \n",
       "71  https://www.goodreads.com/book/show/22551744-p...   \n",
       "72  https://www.goodreads.com/book/show/22544406-d...   \n",
       "73  https://www.goodreads.com/book/show/22206617-h...   \n",
       "75  https://www.goodreads.com/book/show/23197346-r...   \n",
       "77  https://www.goodreads.com/book/show/22609317-l...   \n",
       "78  https://www.goodreads.com/book/show/23346918-1...   \n",
       "\n",
       "                                    my_column/_source  rating.1  \\\n",
       "1          /book/show/11870085-the-fault-in-our-stars      4.36   \n",
       "3           /book/show/22557272-the-girl-on-the-train      3.86   \n",
       "5                    /book/show/15818107-orphan-train      4.10   \n",
       "7                   /book/show/20707959-gray-mountain      3.47   \n",
       "9          /book/show/18079776-the-invention-of-wings      4.22   \n",
       "10                  /book/show/15507958-me-before-you      4.30   \n",
       "12                      /book/show/556602.Sarah_s_Key      4.12   \n",
       "13                    /book/show/20871704-before-i-go      3.80   \n",
       "14         /book/show/22501028-a-spool-of-blue-thread      3.46   \n",
       "16  /book/show/21874813-as-chimney-sweepers-come-t...      3.93   \n",
       "21                 /book/show/20170404-station-eleven      4.01   \n",
       "22   /book/show/18404285-be-careful-what-you-wish-for      3.92   \n",
       "24               /book/show/20881071-the-burning-room      4.01   \n",
       "25             /book/show/22571696-obsession-in-death      4.32   \n",
       "29                    /book/show/13272498-last-to-die      4.08   \n",
       "30                    /book/show/21853633-first-frost      3.98   \n",
       "33        /book/show/21853645-mightier-than-the-sword      3.94   \n",
       "35          /book/show/23215447-all-the-single-ladies      3.58   \n",
       "36                /book/show/22450859-the-boston-girl      3.76   \n",
       "37                      /book/show/18941694-dead-heat      4.24   \n",
       "38               /book/show/20821202-rain-on-the-dead      3.56   \n",
       "41                      /book/show/21489683-die-again      4.16   \n",
       "42           /book/show/22521941-insatiable-appetites      3.69   \n",
       "43                    /book/show/20800147-hope-to-die      4.11   \n",
       "45                   /book/show/22459697-trust-no-one      3.79   \n",
       "46                      /book/show/15722284-saint-odd      4.09   \n",
       "49                      /book/show/23281921-the-fixer      3.75   \n",
       "50             /book/show/23602562-our-souls-at-night      4.10   \n",
       "51                /book/show/20768868-flesh-and-blood      3.62   \n",
       "52               /book/show/22522805-the-buried-giant      3.41   \n",
       "54     /book/show/25958013-the-aureole-of-enchantment      5.00   \n",
       "57                   /book/show/18114068-redeployment      4.00   \n",
       "58                 /book/show/22318363-dreaming-spies      4.04   \n",
       "60               /book/show/21045103-the-empty-throne      4.34   \n",
       "62               /book/show/22522168-no-fortunate-son      4.27   \n",
       "64                /book/show/22522808-trigger-warning      3.95   \n",
       "65                /book/show/18693918-cold-cold-heart      3.80   \n",
       "66              /book/show/21412400-the-first-bad-man      3.56   \n",
       "68                        /book/show/20312459-descent      3.66   \n",
       "69                     /book/show/22895696-the-whites      3.67   \n",
       "71                   /book/show/22551744-prodigal-son      3.89   \n",
       "72    /book/show/22544406-double-fudge-brownie-murder      3.44   \n",
       "73                      /book/show/22206617-hush-hush      3.57   \n",
       "75                  /book/show/23197346-radiant-angel      3.83   \n",
       "77            /book/show/22609317-luckiest-girl-alive      3.52   \n",
       "78                /book/show/23346918-14th-deadly-sin      3.89   \n",
       "\n",
       "    total_ratings  pages  decision  \n",
       "1         1577550    313       1.0  \n",
       "3          282985    323       1.0  \n",
       "5          150431    278       1.0  \n",
       "7           30770    368       1.0  \n",
       "9          117127    384       1.0  \n",
       "10         234030    369       1.0  \n",
       "12         286227    294       1.0  \n",
       "13           5613    309       1.0  \n",
       "14          20403    358       1.0  \n",
       "16           8623    392       1.0  \n",
       "21          82188    336       1.0  \n",
       "22           8999    387       1.0  \n",
       "24          15859    388       1.0  \n",
       "25           7057    404       1.0  \n",
       "29          14541    352       1.0  \n",
       "30          12159    291       1.0  \n",
       "33           4653    400       1.0  \n",
       "35           2191    368       1.0  \n",
       "36          24631    320       1.0  \n",
       "37           9585    324       1.0  \n",
       "38            661    320       1.0  \n",
       "41           6866    330       1.0  \n",
       "42           1901    320       1.0  \n",
       "43           9922    374       1.0  \n",
       "45           3108    327       1.0  \n",
       "46           6747    352       1.0  \n",
       "49           1435    376       1.0  \n",
       "50           4861    179       1.0  \n",
       "51           6640    369       1.0  \n",
       "52          13622    317       1.0  \n",
       "54              1    328       1.0  \n",
       "57          11302    288       1.0  \n",
       "58           2534    352       1.0  \n",
       "60           3012    302       1.0  \n",
       "62           1220    405       1.0  \n",
       "64          11805    310       1.0  \n",
       "65           4822    400       1.0  \n",
       "66           6796    276       1.0  \n",
       "68           6077    376       1.0  \n",
       "69           2577    352       1.0  \n",
       "71           2448    318       1.0  \n",
       "72           1999    304       1.0  \n",
       "73           2221    320       1.0  \n",
       "75           3700    311       1.0  \n",
       "77          18921    352       1.0  \n",
       "78           7808    384       1.0  "
      ]
     },
     "execution_count": 66,
     "metadata": {},
     "output_type": "execute_result"
    }
   ],
   "source": [
    "data[data['decision'] == 1]"
   ]
  },
  {
   "cell_type": "code",
   "execution_count": 67,
   "metadata": {},
   "outputs": [
    {
     "data": {
      "text/plain": [
       "46"
      ]
     },
     "execution_count": 67,
     "metadata": {},
     "output_type": "execute_result"
    }
   ],
   "source": [
    "len(data[data['decision'] == 1])"
   ]
  },
  {
   "cell_type": "markdown",
   "metadata": {},
   "source": [
    "## Scipy Optimization"
   ]
  },
  {
   "cell_type": "code",
   "execution_count": null,
   "metadata": {},
   "outputs": [],
   "source": []
  },
  {
   "cell_type": "code",
   "execution_count": 68,
   "metadata": {},
   "outputs": [],
   "source": [
    "import numpy as np\n",
    "from matplotlib import pyplot as plt\n",
    "from scipy import optimize"
   ]
  },
  {
   "cell_type": "markdown",
   "metadata": {},
   "source": [
    "### Minimize a simple scalar function: $\\text{sin}(x).\\text{exp}[(x-0.6)^2]$"
   ]
  },
  {
   "cell_type": "code",
   "execution_count": 69,
   "metadata": {},
   "outputs": [],
   "source": [
    "def scalar1(x):\n",
    "    return np.sin(x)*np.exp(-0.1*(x-0.6)**2)"
   ]
  },
  {
   "cell_type": "code",
   "execution_count": 70,
   "metadata": {},
   "outputs": [],
   "source": [
    "def plot_nice(x,y,title=None,xlabel='x',ylabel='y',show=True):\n",
    "    #plt.figure(figsize=(8,5))\n",
    "    if title!=None:\n",
    "        plt.title(str(title)+'\\n',fontsize=18)\n",
    "    plt.plot(x,y,color='k',lw=3)\n",
    "    plt.grid(True)\n",
    "    plt.xticks(fontsize=15)\n",
    "    plt.yticks(fontsize=15)\n",
    "    plt.xlabel(xlabel,fontsize=15)\n",
    "    plt.ylabel(ylabel,fontsize=15)\n",
    "    if show:\n",
    "        plt.show()"
   ]
  },
  {
   "cell_type": "code",
   "execution_count": 71,
   "metadata": {},
   "outputs": [],
   "source": [
    "x = np.arange(-10,10,0.05)"
   ]
  },
  {
   "cell_type": "code",
   "execution_count": 72,
   "metadata": {},
   "outputs": [],
   "source": [
    "y = scalar1(x)"
   ]
  },
  {
   "cell_type": "code",
   "execution_count": 73,
   "metadata": {},
   "outputs": [
    {
     "data": {
      "image/png": "[encoded data removed]",
      "text/plain": [
       "<Figure size 432x288 with 1 Axes>"
      ]
     },
     "metadata": {
      "needs_background": "light"
     },
     "output_type": "display_data"
    }
   ],
   "source": [
    "plot_nice(x,y,title=\"Objective function\",xlabel='x-values',ylabel='Function values')"
   ]
  },
  {
   "cell_type": "markdown",
   "metadata": {},
   "source": [
    "### Use `optimize.minimize_scalar()` method"
   ]
  },
  {
   "cell_type": "code",
   "execution_count": 74,
   "metadata": {},
   "outputs": [],
   "source": [
    "result = optimize.minimize_scalar(scalar1)"
   ]
  },
  {
   "cell_type": "code",
   "execution_count": 75,
   "metadata": {},
   "outputs": [
    {
     "data": {
      "text/plain": [
       "True"
      ]
     },
     "execution_count": 75,
     "metadata": {},
     "output_type": "execute_result"
    }
   ],
   "source": [
    "result['success']"
   ]
  },
  {
   "cell_type": "code",
   "execution_count": 76,
   "metadata": {},
   "outputs": [
    {
     "name": "stdout",
     "output_type": "stream",
     "text": [
      "Minimum occurs at:  -1.2214484245210282\n"
     ]
    }
   ],
   "source": [
    "print(\"Minimum occurs at: \",result['x'])"
   ]
  },
  {
   "cell_type": "code",
   "execution_count": 77,
   "metadata": {},
   "outputs": [
    {
     "name": "stdout",
     "output_type": "stream",
     "text": [
      "     fun: -0.6743051024666711\n",
      "    nfev: 15\n",
      "     nit: 10\n",
      " success: True\n",
      "       x: -1.2214484245210282\n"
     ]
    }
   ],
   "source": [
    "print(result)"
   ]
  },
  {
   "cell_type": "markdown",
   "metadata": {},
   "source": [
    "### Bounded search (bound on the independent variable)"
   ]
  },
  {
   "cell_type": "code",
   "execution_count": 78,
   "metadata": {},
   "outputs": [],
   "source": [
    "result = optimize.minimize_scalar(scalar1,bounds=(0,10),method='Bounded')"
   ]
  },
  {
   "cell_type": "code",
   "execution_count": 79,
   "metadata": {},
   "outputs": [
    {
     "name": "stdout",
     "output_type": "stream",
     "text": [
      "When bounded between 0 and 10, minimum occurs at:  4.101466164987216\n"
     ]
    }
   ],
   "source": [
    "print(\"When bounded between 0 and 10, minimum occurs at: \",result['x'])"
   ]
  },
  {
   "cell_type": "markdown",
   "metadata": {},
   "source": [
    "### Other function-based constraints"
   ]
  },
  {
   "cell_type": "code",
   "execution_count": 80,
   "metadata": {},
   "outputs": [],
   "source": [
    "def constraint1(x):\n",
    "    return 0.5-np.log10(x**2+2)"
   ]
  },
  {
   "cell_type": "code",
   "execution_count": 81,
   "metadata": {},
   "outputs": [],
   "source": [
    "def constraint2(x):\n",
    "    return np.log10(x**2+2) - 1.5"
   ]
  },
  {
   "cell_type": "code",
   "execution_count": 82,
   "metadata": {},
   "outputs": [],
   "source": [
    "def constraint3(x):\n",
    "    return np.sin(x)+0.3*x**2-1"
   ]
  },
  {
   "cell_type": "code",
   "execution_count": 83,
   "metadata": {},
   "outputs": [],
   "source": [
    "cons = ({'type':'ineq','fun':constraint1},\n",
    "        {'type':'ineq','fun':constraint2},\n",
    "       {'type':'eq','fun':constraint3})"
   ]
  },
  {
   "cell_type": "code",
   "execution_count": 84,
   "metadata": {},
   "outputs": [],
   "source": [
    "result = optimize.minimize(scalar1,x0=0,method='SLSQP',constraints=cons,options={'maxiter':100})"
   ]
  },
  {
   "cell_type": "code",
   "execution_count": 85,
   "metadata": {},
   "outputs": [
    {
     "name": "stdout",
     "output_type": "stream",
     "text": [
      "     fun: 0.7631695862891654\n",
      "     jac: array([0.59193639])\n",
      " message: 'Iteration limit exceeded'\n",
      "    nfev: 1254\n",
      "     nit: 101\n",
      "    njev: 101\n",
      "  status: 9\n",
      " success: False\n",
      "       x: array([0.8773752])\n"
     ]
    }
   ],
   "source": [
    "print(result)"
   ]
  },
  {
   "cell_type": "code",
   "execution_count": 86,
   "metadata": {},
   "outputs": [],
   "source": [
    "result = optimize.minimize(scalar1,x0=-20,method='SLSQP',constraints=cons,options={'maxiter':100})"
   ]
  },
  {
   "cell_type": "code",
   "execution_count": 87,
   "metadata": {},
   "outputs": [
    {
     "name": "stdout",
     "output_type": "stream",
     "text": [
      "     fun: -0.28594944567686104\n",
      "     jac: array([-0.46750661])\n",
      " message: 'Iteration limit exceeded'\n",
      "    nfev: 1233\n",
      "     nit: 101\n",
      "    njev: 101\n",
      "  status: 9\n",
      " success: False\n",
      "       x: array([-2.37569791])\n"
     ]
    }
   ],
   "source": [
    "print(result)"
   ]
  },
  {
   "cell_type": "code",
   "execution_count": 88,
   "metadata": {},
   "outputs": [],
   "source": [
    "result = optimize.minimize(scalar1,x0=-20,method='SLSQP',constraints=cons,options={'maxiter':3})"
   ]
  },
  {
   "cell_type": "code",
   "execution_count": 89,
   "metadata": {},
   "outputs": [
    {
     "name": "stdout",
     "output_type": "stream",
     "text": [
      "     fun: -0.4155114388552631\n",
      "     jac: array([-0.46860977])\n",
      " message: 'Iteration limit exceeded'\n",
      "    nfev: 12\n",
      "     nit: 4\n",
      "    njev: 4\n",
      "  status: 9\n",
      " success: False\n",
      "       x: array([-2.10190632])\n"
     ]
    }
   ],
   "source": [
    "print(result)"
   ]
  },
  {
   "cell_type": "markdown",
   "metadata": {},
   "source": [
    "### Multi-variate case: Sum of Gaussians"
   ]
  },
  {
   "cell_type": "code",
   "execution_count": 90,
   "metadata": {},
   "outputs": [
    {
     "data": {
      "image/png": "[encoded data removed]",
      "text/plain": [
       "<Figure size 576x360 with 1 Axes>"
      ]
     },
     "metadata": {
      "needs_background": "light"
     },
     "output_type": "display_data"
    }
   ],
   "source": [
    "mu = [-1,0.3,2.1]\n",
    "sigma = [2.1,0.8,1.7]\n",
    "add=np.zeros(1000)\n",
    "plt.figure(figsize=(8,5))\n",
    "for m,s in zip(mu,sigma):\n",
    "    x=np.arange(-5,5,0.01)\n",
    "    y=np.exp(-(x-m)**2/(2*s**2))\n",
    "    add+=y\n",
    "    plot_nice(x,y,show=False)\n",
    "    \n",
    "plt.show()"
   ]
  },
  {
   "cell_type": "code",
   "execution_count": 91,
   "metadata": {},
   "outputs": [
    {
     "data": {
      "image/png": "[encoded data removed]",
      "text/plain": [
       "<Figure size 432x288 with 1 Axes>"
      ]
     },
     "metadata": {
      "needs_background": "light"
     },
     "output_type": "display_data"
    }
   ],
   "source": [
    "plot_nice(x=np.arange(-5,5,0.01),y=add)"
   ]
  },
  {
   "cell_type": "code",
   "execution_count": 92,
   "metadata": {},
   "outputs": [],
   "source": [
    "def gaussian(m,s):\n",
    "    x = np.arange(-5,5,0.01)\n",
    "    return np.exp(-(x-m)**2/(2*s**2))"
   ]
  },
  {
   "cell_type": "code",
   "execution_count": 93,
   "metadata": {},
   "outputs": [],
   "source": [
    "def gaussian_mixture(x):\n",
    "    \"\"\"\n",
    "    Computes the resultant Gaussian mixture from an input vector and known mean, variance quantities\n",
    "    \"\"\"\n",
    "    return -(np.exp(-(x[0]+1)**2/(2.1**2))+np.exp(-(x[1]-0.3)**2/(0.8**2))+np.exp(-(x[2]-2.1)**2/(1.7**2)))"
   ]
  },
  {
   "cell_type": "code",
   "execution_count": 94,
   "metadata": {},
   "outputs": [
    {
     "data": {
      "text/plain": [
       "-1.0233691172715331"
      ]
     },
     "execution_count": 94,
     "metadata": {},
     "output_type": "execute_result"
    }
   ],
   "source": [
    "gaussian_mixture(np.array([3,-2,2]))"
   ]
  },
  {
   "cell_type": "code",
   "execution_count": 95,
   "metadata": {},
   "outputs": [],
   "source": [
    "x0=np.array([0]*3)\n",
    "result = optimize.minimize(gaussian_mixture,x0=x0,method='SLSQP',options={'maxiter':100})"
   ]
  },
  {
   "cell_type": "code",
   "execution_count": 96,
   "metadata": {},
   "outputs": [
    {
     "data": {
      "text/plain": [
       "     fun: -2.999999618263914\n",
       "     jac: array([-8.10027122e-05, -2.40206718e-04,  7.11023808e-04])\n",
       " message: 'Optimization terminated successfully.'\n",
       "    nfev: 42\n",
       "     nit: 8\n",
       "    njev: 8\n",
       "  status: 0\n",
       " success: True\n",
       "       x: array([-1.00017856,  0.29992313,  2.10102744])"
      ]
     },
     "execution_count": 96,
     "metadata": {},
     "output_type": "execute_result"
    }
   ],
   "source": [
    "result"
   ]
  },
  {
   "cell_type": "markdown",
   "metadata": {},
   "source": [
    "### Bounds with multiple variables"
   ]
  },
  {
   "cell_type": "code",
   "execution_count": 97,
   "metadata": {},
   "outputs": [],
   "source": [
    "x0=np.array([0]*3)\n",
    "x1_bound = (-2,2)\n",
    "x2_bound = (0,5)\n",
    "x3_bound = (-3,0)\n",
    "result = optimize.minimize(gaussian_mixture,x0=x0,method='SLSQP',options={'maxiter':100},\n",
    "                           bounds=(x1_bound,x2_bound,x3_bound))"
   ]
  },
  {
   "cell_type": "code",
   "execution_count": 98,
   "metadata": {},
   "outputs": [
    {
     "data": {
      "text/plain": [
       "     fun: -2.217414055755018\n",
       "     jac: array([-2.89082527e-06,  3.60012054e-04, -3.15965086e-01])\n",
       " message: 'Optimization terminated successfully.'\n",
       "    nfev: 31\n",
       "     nit: 6\n",
       "    njev: 6\n",
       "  status: 0\n",
       " success: True\n",
       "       x: array([-1.00000644e+00,  3.00115191e-01, -8.03574200e-17])"
      ]
     },
     "execution_count": 98,
     "metadata": {},
     "output_type": "execute_result"
    }
   ],
   "source": [
    "result"
   ]
  },
  {
   "cell_type": "code",
   "execution_count": null,
   "metadata": {},
   "outputs": [],
   "source": []
  },
  {
   "cell_type": "code",
   "execution_count": null,
   "metadata": {},
   "outputs": [],
   "source": []
  },
  {
   "cell_type": "code",
   "execution_count": null,
   "metadata": {},
   "outputs": [],
   "source": []
  }
 ],
 "metadata": {
  "kernelspec": {
   "display_name": "Python 3",
   "language": "python",
   "name": "python3"
  },
  "language_info": {
   "codemirror_mode": {
    "name": "ipython",
    "version": 3
   },
   "file_extension": ".py",
   "mimetype": "text/x-python",
   "name": "python",
   "nbconvert_exporter": "python",
   "pygments_lexer": "ipython3",
   "version": "3.7.3"
  }
 },
 "nbformat": 4,
 "nbformat_minor": 4
}
